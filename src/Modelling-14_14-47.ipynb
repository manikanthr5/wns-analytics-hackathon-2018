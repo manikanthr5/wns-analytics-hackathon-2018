{
 "cells": [
  {
   "cell_type": "markdown",
   "metadata": {},
   "source": [
    "# Modelling"
   ]
  },
  {
   "cell_type": "markdown",
   "metadata": {},
   "source": [
    "## Prerequisite Models"
   ]
  },
  {
   "cell_type": "code",
   "execution_count": 1,
   "metadata": {},
   "outputs": [],
   "source": [
    "%matplotlib inline\n",
    "\n",
    "import numpy as np\n",
    "import pandas as pd\n",
    "import scipy\n",
    "\n",
    "from sklearn.model_selection import train_test_split"
   ]
  },
  {
   "cell_type": "markdown",
   "metadata": {},
   "source": [
    "## Required Metrics"
   ]
  },
  {
   "cell_type": "code",
   "execution_count": 2,
   "metadata": {},
   "outputs": [],
   "source": [
    "from sklearn.metrics import f1_score"
   ]
  },
  {
   "cell_type": "markdown",
   "metadata": {},
   "source": [
    "## Classifier Models"
   ]
  },
  {
   "cell_type": "code",
   "execution_count": 3,
   "metadata": {},
   "outputs": [],
   "source": [
    "from sklearn.ensemble import AdaBoostClassifier, ExtraTreesClassifier, BaggingClassifier, GradientBoostingClassifier\n",
    "from sklearn.ensemble import RandomForestClassifier, VotingClassifier\n",
    "from sklearn.gaussian_process import GaussianProcessClassifier\n",
    "from sklearn.linear_model import PassiveAggressiveClassifier\n",
    "from sklearn.linear_model import RidgeClassifier, SGDClassifier"
   ]
  },
  {
   "cell_type": "code",
   "execution_count": 4,
   "metadata": {},
   "outputs": [],
   "source": [
    "from sklearn.neighbors import KNeighborsClassifier\n",
    "from sklearn.neural_network import MLPClassifier\n",
    "from sklearn.tree import DecisionTreeClassifier, ExtraTreeClassifier"
   ]
  },
  {
   "cell_type": "code",
   "execution_count": 5,
   "metadata": {},
   "outputs": [],
   "source": [
    "from xgboost import XGBClassifier"
   ]
  },
  {
   "cell_type": "markdown",
   "metadata": {},
   "source": [
    "## Data Import"
   ]
  },
  {
   "cell_type": "code",
   "execution_count": 6,
   "metadata": {},
   "outputs": [],
   "source": [
    "train_df = pd.read_csv('../cleaned_data/train.csv')\n",
    "test_df = pd.read_csv('../cleaned_data/test.csv')"
   ]
  },
  {
   "cell_type": "code",
   "execution_count": 11,
   "metadata": {},
   "outputs": [
    {
     "data": {
      "text/plain": [
       "False    63\n",
       "dtype: int64"
      ]
     },
     "execution_count": 11,
     "metadata": {},
     "output_type": "execute_result"
    }
   ],
   "source": [
    "train_df.isnull().any().value_counts()"
   ]
  },
  {
   "cell_type": "code",
   "execution_count": 12,
   "metadata": {
    "scrolled": true
   },
   "outputs": [
    {
     "data": {
      "text/plain": [
       "False    62\n",
       "dtype: int64"
      ]
     },
     "execution_count": 12,
     "metadata": {},
     "output_type": "execute_result"
    }
   ],
   "source": [
    "test_df.isnull().any().value_counts()"
   ]
  },
  {
   "cell_type": "code",
   "execution_count": 13,
   "metadata": {},
   "outputs": [
    {
     "data": {
      "text/plain": [
       "Index(['Unnamed: 0', 'employee_id', 'gender', 'no_of_trainings', 'age',\n",
       "       'previous_year_rating', 'length_of_service', 'KPIs_met >80%',\n",
       "       'awards_won?', 'avg_training_score', 'is_promoted',\n",
       "       'department_analytics', 'department_finance', 'department_hr',\n",
       "       'department_legal', 'department_operations', 'department_procurement',\n",
       "       'department_r_and_d', 'department_sales_and_martketing',\n",
       "       'department_technology', 'region_1', 'region_10', 'region_11',\n",
       "       'region_12', 'region_13', 'region_14', 'region_15', 'region_16',\n",
       "       'region_17', 'region_18', 'region_19', 'region_2', 'region_20',\n",
       "       'region_21', 'region_22', 'region_23', 'region_24', 'region_25',\n",
       "       'region_26', 'region_27', 'region_28', 'region_29', 'region_3',\n",
       "       'region_30', 'region_31', 'region_32', 'region_33', 'region_34',\n",
       "       'region_4', 'region_5', 'region_6', 'region_7', 'region_8', 'region_9',\n",
       "       'Bachelor's', 'Below Secondary', 'Master's & above', 'Unknown', 'other',\n",
       "       'referred', 'sourcing', 'rating_missing', 'predicted_rating'],\n",
       "      dtype='object')"
      ]
     },
     "execution_count": 13,
     "metadata": {},
     "output_type": "execute_result"
    }
   ],
   "source": [
    "train_df.columns"
   ]
  },
  {
   "cell_type": "code",
   "execution_count": 16,
   "metadata": {
    "scrolled": true
   },
   "outputs": [
    {
     "data": {
      "text/html": [
       "<div>\n",
       "<style scoped>\n",
       "    .dataframe tbody tr th:only-of-type {\n",
       "        vertical-align: middle;\n",
       "    }\n",
       "\n",
       "    .dataframe tbody tr th {\n",
       "        vertical-align: top;\n",
       "    }\n",
       "\n",
       "    .dataframe thead th {\n",
       "        text-align: right;\n",
       "    }\n",
       "</style>\n",
       "<table border=\"1\" class=\"dataframe\">\n",
       "  <thead>\n",
       "    <tr style=\"text-align: right;\">\n",
       "      <th></th>\n",
       "      <th>gender</th>\n",
       "      <th>no_of_trainings</th>\n",
       "      <th>age</th>\n",
       "      <th>previous_year_rating</th>\n",
       "      <th>length_of_service</th>\n",
       "      <th>KPIs_met &gt;80%</th>\n",
       "      <th>awards_won?</th>\n",
       "      <th>avg_training_score</th>\n",
       "      <th>is_promoted</th>\n",
       "      <th>department_analytics</th>\n",
       "      <th>...</th>\n",
       "      <th>region_9</th>\n",
       "      <th>Bachelor's</th>\n",
       "      <th>Below Secondary</th>\n",
       "      <th>Master's &amp; above</th>\n",
       "      <th>Unknown</th>\n",
       "      <th>other</th>\n",
       "      <th>referred</th>\n",
       "      <th>sourcing</th>\n",
       "      <th>rating_missing</th>\n",
       "      <th>predicted_rating</th>\n",
       "    </tr>\n",
       "    <tr>\n",
       "      <th>employee_id</th>\n",
       "      <th></th>\n",
       "      <th></th>\n",
       "      <th></th>\n",
       "      <th></th>\n",
       "      <th></th>\n",
       "      <th></th>\n",
       "      <th></th>\n",
       "      <th></th>\n",
       "      <th></th>\n",
       "      <th></th>\n",
       "      <th></th>\n",
       "      <th></th>\n",
       "      <th></th>\n",
       "      <th></th>\n",
       "      <th></th>\n",
       "      <th></th>\n",
       "      <th></th>\n",
       "      <th></th>\n",
       "      <th></th>\n",
       "      <th></th>\n",
       "      <th></th>\n",
       "    </tr>\n",
       "  </thead>\n",
       "  <tbody>\n",
       "    <tr>\n",
       "      <th>65438</th>\n",
       "      <td>0</td>\n",
       "      <td>1</td>\n",
       "      <td>35</td>\n",
       "      <td>5.0</td>\n",
       "      <td>8</td>\n",
       "      <td>1</td>\n",
       "      <td>0</td>\n",
       "      <td>49</td>\n",
       "      <td>0</td>\n",
       "      <td>0</td>\n",
       "      <td>...</td>\n",
       "      <td>0</td>\n",
       "      <td>0</td>\n",
       "      <td>0</td>\n",
       "      <td>1</td>\n",
       "      <td>0</td>\n",
       "      <td>0</td>\n",
       "      <td>0</td>\n",
       "      <td>1</td>\n",
       "      <td>0</td>\n",
       "      <td>4.0</td>\n",
       "    </tr>\n",
       "    <tr>\n",
       "      <th>65141</th>\n",
       "      <td>1</td>\n",
       "      <td>1</td>\n",
       "      <td>30</td>\n",
       "      <td>5.0</td>\n",
       "      <td>4</td>\n",
       "      <td>0</td>\n",
       "      <td>0</td>\n",
       "      <td>60</td>\n",
       "      <td>0</td>\n",
       "      <td>0</td>\n",
       "      <td>...</td>\n",
       "      <td>0</td>\n",
       "      <td>1</td>\n",
       "      <td>0</td>\n",
       "      <td>0</td>\n",
       "      <td>0</td>\n",
       "      <td>1</td>\n",
       "      <td>0</td>\n",
       "      <td>0</td>\n",
       "      <td>0</td>\n",
       "      <td>3.0</td>\n",
       "    </tr>\n",
       "    <tr>\n",
       "      <th>7513</th>\n",
       "      <td>1</td>\n",
       "      <td>1</td>\n",
       "      <td>34</td>\n",
       "      <td>3.0</td>\n",
       "      <td>7</td>\n",
       "      <td>0</td>\n",
       "      <td>0</td>\n",
       "      <td>50</td>\n",
       "      <td>0</td>\n",
       "      <td>0</td>\n",
       "      <td>...</td>\n",
       "      <td>0</td>\n",
       "      <td>1</td>\n",
       "      <td>0</td>\n",
       "      <td>0</td>\n",
       "      <td>0</td>\n",
       "      <td>0</td>\n",
       "      <td>0</td>\n",
       "      <td>1</td>\n",
       "      <td>0</td>\n",
       "      <td>3.0</td>\n",
       "    </tr>\n",
       "    <tr>\n",
       "      <th>2542</th>\n",
       "      <td>1</td>\n",
       "      <td>2</td>\n",
       "      <td>39</td>\n",
       "      <td>1.0</td>\n",
       "      <td>10</td>\n",
       "      <td>0</td>\n",
       "      <td>0</td>\n",
       "      <td>50</td>\n",
       "      <td>0</td>\n",
       "      <td>0</td>\n",
       "      <td>...</td>\n",
       "      <td>0</td>\n",
       "      <td>1</td>\n",
       "      <td>0</td>\n",
       "      <td>0</td>\n",
       "      <td>0</td>\n",
       "      <td>1</td>\n",
       "      <td>0</td>\n",
       "      <td>0</td>\n",
       "      <td>0</td>\n",
       "      <td>2.0</td>\n",
       "    </tr>\n",
       "    <tr>\n",
       "      <th>48945</th>\n",
       "      <td>1</td>\n",
       "      <td>1</td>\n",
       "      <td>45</td>\n",
       "      <td>3.0</td>\n",
       "      <td>2</td>\n",
       "      <td>0</td>\n",
       "      <td>0</td>\n",
       "      <td>73</td>\n",
       "      <td>0</td>\n",
       "      <td>0</td>\n",
       "      <td>...</td>\n",
       "      <td>0</td>\n",
       "      <td>1</td>\n",
       "      <td>0</td>\n",
       "      <td>0</td>\n",
       "      <td>0</td>\n",
       "      <td>1</td>\n",
       "      <td>0</td>\n",
       "      <td>0</td>\n",
       "      <td>0</td>\n",
       "      <td>3.0</td>\n",
       "    </tr>\n",
       "  </tbody>\n",
       "</table>\n",
       "<p>5 rows × 61 columns</p>\n",
       "</div>"
      ],
      "text/plain": [
       "             gender  no_of_trainings  age  previous_year_rating  \\\n",
       "employee_id                                                       \n",
       "65438             0                1   35                   5.0   \n",
       "65141             1                1   30                   5.0   \n",
       "7513              1                1   34                   3.0   \n",
       "2542              1                2   39                   1.0   \n",
       "48945             1                1   45                   3.0   \n",
       "\n",
       "             length_of_service  KPIs_met >80%  awards_won?  \\\n",
       "employee_id                                                  \n",
       "65438                        8              1            0   \n",
       "65141                        4              0            0   \n",
       "7513                         7              0            0   \n",
       "2542                        10              0            0   \n",
       "48945                        2              0            0   \n",
       "\n",
       "             avg_training_score  is_promoted  department_analytics  \\\n",
       "employee_id                                                          \n",
       "65438                        49            0                     0   \n",
       "65141                        60            0                     0   \n",
       "7513                         50            0                     0   \n",
       "2542                         50            0                     0   \n",
       "48945                        73            0                     0   \n",
       "\n",
       "                   ...         region_9  Bachelor's  Below Secondary  \\\n",
       "employee_id        ...                                                 \n",
       "65438              ...                0           0                0   \n",
       "65141              ...                0           1                0   \n",
       "7513               ...                0           1                0   \n",
       "2542               ...                0           1                0   \n",
       "48945              ...                0           1                0   \n",
       "\n",
       "             Master's & above  Unknown  other  referred  sourcing  \\\n",
       "employee_id                                                         \n",
       "65438                       1        0      0         0         1   \n",
       "65141                       0        0      1         0         0   \n",
       "7513                        0        0      0         0         1   \n",
       "2542                        0        0      1         0         0   \n",
       "48945                       0        0      1         0         0   \n",
       "\n",
       "             rating_missing  predicted_rating  \n",
       "employee_id                                    \n",
       "65438                     0               4.0  \n",
       "65141                     0               3.0  \n",
       "7513                      0               3.0  \n",
       "2542                      0               2.0  \n",
       "48945                     0               3.0  \n",
       "\n",
       "[5 rows x 61 columns]"
      ]
     },
     "execution_count": 16,
     "metadata": {},
     "output_type": "execute_result"
    }
   ],
   "source": [
    "train_df.set_index('Unnamed: 0', inplace = True)\n",
    "train_df.set_index('employee_id', inplace = True)\n",
    "train_df.head()"
   ]
  },
  {
   "cell_type": "code",
   "execution_count": 17,
   "metadata": {},
   "outputs": [
    {
     "data": {
      "text/html": [
       "<div>\n",
       "<style scoped>\n",
       "    .dataframe tbody tr th:only-of-type {\n",
       "        vertical-align: middle;\n",
       "    }\n",
       "\n",
       "    .dataframe tbody tr th {\n",
       "        vertical-align: top;\n",
       "    }\n",
       "\n",
       "    .dataframe thead th {\n",
       "        text-align: right;\n",
       "    }\n",
       "</style>\n",
       "<table border=\"1\" class=\"dataframe\">\n",
       "  <thead>\n",
       "    <tr style=\"text-align: right;\">\n",
       "      <th></th>\n",
       "      <th>gender</th>\n",
       "      <th>no_of_trainings</th>\n",
       "      <th>age</th>\n",
       "      <th>previous_year_rating</th>\n",
       "      <th>length_of_service</th>\n",
       "      <th>KPIs_met &gt;80%</th>\n",
       "      <th>awards_won?</th>\n",
       "      <th>avg_training_score</th>\n",
       "      <th>department_analytics</th>\n",
       "      <th>department_finance</th>\n",
       "      <th>...</th>\n",
       "      <th>region_9</th>\n",
       "      <th>Bachelor's</th>\n",
       "      <th>Below Secondary</th>\n",
       "      <th>Master's &amp; above</th>\n",
       "      <th>Unknown</th>\n",
       "      <th>other</th>\n",
       "      <th>referred</th>\n",
       "      <th>sourcing</th>\n",
       "      <th>rating_missing</th>\n",
       "      <th>predicted_rating</th>\n",
       "    </tr>\n",
       "    <tr>\n",
       "      <th>employee_id</th>\n",
       "      <th></th>\n",
       "      <th></th>\n",
       "      <th></th>\n",
       "      <th></th>\n",
       "      <th></th>\n",
       "      <th></th>\n",
       "      <th></th>\n",
       "      <th></th>\n",
       "      <th></th>\n",
       "      <th></th>\n",
       "      <th></th>\n",
       "      <th></th>\n",
       "      <th></th>\n",
       "      <th></th>\n",
       "      <th></th>\n",
       "      <th></th>\n",
       "      <th></th>\n",
       "      <th></th>\n",
       "      <th></th>\n",
       "      <th></th>\n",
       "      <th></th>\n",
       "    </tr>\n",
       "  </thead>\n",
       "  <tbody>\n",
       "    <tr>\n",
       "      <th>8724</th>\n",
       "      <td>1</td>\n",
       "      <td>1</td>\n",
       "      <td>24</td>\n",
       "      <td>3.0</td>\n",
       "      <td>1</td>\n",
       "      <td>1</td>\n",
       "      <td>0</td>\n",
       "      <td>77</td>\n",
       "      <td>0</td>\n",
       "      <td>0</td>\n",
       "      <td>...</td>\n",
       "      <td>0</td>\n",
       "      <td>1</td>\n",
       "      <td>0</td>\n",
       "      <td>0</td>\n",
       "      <td>0</td>\n",
       "      <td>0</td>\n",
       "      <td>0</td>\n",
       "      <td>1</td>\n",
       "      <td>1</td>\n",
       "      <td>3.0</td>\n",
       "    </tr>\n",
       "    <tr>\n",
       "      <th>74430</th>\n",
       "      <td>0</td>\n",
       "      <td>1</td>\n",
       "      <td>31</td>\n",
       "      <td>3.0</td>\n",
       "      <td>5</td>\n",
       "      <td>0</td>\n",
       "      <td>0</td>\n",
       "      <td>51</td>\n",
       "      <td>0</td>\n",
       "      <td>0</td>\n",
       "      <td>...</td>\n",
       "      <td>0</td>\n",
       "      <td>1</td>\n",
       "      <td>0</td>\n",
       "      <td>0</td>\n",
       "      <td>0</td>\n",
       "      <td>1</td>\n",
       "      <td>0</td>\n",
       "      <td>0</td>\n",
       "      <td>0</td>\n",
       "      <td>3.0</td>\n",
       "    </tr>\n",
       "    <tr>\n",
       "      <th>72255</th>\n",
       "      <td>1</td>\n",
       "      <td>1</td>\n",
       "      <td>31</td>\n",
       "      <td>1.0</td>\n",
       "      <td>4</td>\n",
       "      <td>0</td>\n",
       "      <td>0</td>\n",
       "      <td>47</td>\n",
       "      <td>0</td>\n",
       "      <td>0</td>\n",
       "      <td>...</td>\n",
       "      <td>0</td>\n",
       "      <td>1</td>\n",
       "      <td>0</td>\n",
       "      <td>0</td>\n",
       "      <td>0</td>\n",
       "      <td>1</td>\n",
       "      <td>0</td>\n",
       "      <td>0</td>\n",
       "      <td>0</td>\n",
       "      <td>3.0</td>\n",
       "    </tr>\n",
       "    <tr>\n",
       "      <th>38562</th>\n",
       "      <td>0</td>\n",
       "      <td>3</td>\n",
       "      <td>31</td>\n",
       "      <td>2.0</td>\n",
       "      <td>9</td>\n",
       "      <td>0</td>\n",
       "      <td>0</td>\n",
       "      <td>65</td>\n",
       "      <td>0</td>\n",
       "      <td>0</td>\n",
       "      <td>...</td>\n",
       "      <td>0</td>\n",
       "      <td>1</td>\n",
       "      <td>0</td>\n",
       "      <td>0</td>\n",
       "      <td>0</td>\n",
       "      <td>1</td>\n",
       "      <td>0</td>\n",
       "      <td>0</td>\n",
       "      <td>0</td>\n",
       "      <td>3.0</td>\n",
       "    </tr>\n",
       "    <tr>\n",
       "      <th>64486</th>\n",
       "      <td>1</td>\n",
       "      <td>1</td>\n",
       "      <td>30</td>\n",
       "      <td>4.0</td>\n",
       "      <td>7</td>\n",
       "      <td>0</td>\n",
       "      <td>0</td>\n",
       "      <td>61</td>\n",
       "      <td>0</td>\n",
       "      <td>1</td>\n",
       "      <td>...</td>\n",
       "      <td>0</td>\n",
       "      <td>1</td>\n",
       "      <td>0</td>\n",
       "      <td>0</td>\n",
       "      <td>0</td>\n",
       "      <td>0</td>\n",
       "      <td>0</td>\n",
       "      <td>1</td>\n",
       "      <td>0</td>\n",
       "      <td>3.0</td>\n",
       "    </tr>\n",
       "  </tbody>\n",
       "</table>\n",
       "<p>5 rows × 60 columns</p>\n",
       "</div>"
      ],
      "text/plain": [
       "             gender  no_of_trainings  age  previous_year_rating  \\\n",
       "employee_id                                                       \n",
       "8724              1                1   24                   3.0   \n",
       "74430             0                1   31                   3.0   \n",
       "72255             1                1   31                   1.0   \n",
       "38562             0                3   31                   2.0   \n",
       "64486             1                1   30                   4.0   \n",
       "\n",
       "             length_of_service  KPIs_met >80%  awards_won?  \\\n",
       "employee_id                                                  \n",
       "8724                         1              1            0   \n",
       "74430                        5              0            0   \n",
       "72255                        4              0            0   \n",
       "38562                        9              0            0   \n",
       "64486                        7              0            0   \n",
       "\n",
       "             avg_training_score  department_analytics  department_finance  \\\n",
       "employee_id                                                                 \n",
       "8724                         77                     0                   0   \n",
       "74430                        51                     0                   0   \n",
       "72255                        47                     0                   0   \n",
       "38562                        65                     0                   0   \n",
       "64486                        61                     0                   1   \n",
       "\n",
       "                   ...         region_9  Bachelor's  Below Secondary  \\\n",
       "employee_id        ...                                                 \n",
       "8724               ...                0           1                0   \n",
       "74430              ...                0           1                0   \n",
       "72255              ...                0           1                0   \n",
       "38562              ...                0           1                0   \n",
       "64486              ...                0           1                0   \n",
       "\n",
       "             Master's & above  Unknown  other  referred  sourcing  \\\n",
       "employee_id                                                         \n",
       "8724                        0        0      0         0         1   \n",
       "74430                       0        0      1         0         0   \n",
       "72255                       0        0      1         0         0   \n",
       "38562                       0        0      1         0         0   \n",
       "64486                       0        0      0         0         1   \n",
       "\n",
       "             rating_missing  predicted_rating  \n",
       "employee_id                                    \n",
       "8724                      1               3.0  \n",
       "74430                     0               3.0  \n",
       "72255                     0               3.0  \n",
       "38562                     0               3.0  \n",
       "64486                     0               3.0  \n",
       "\n",
       "[5 rows x 60 columns]"
      ]
     },
     "execution_count": 17,
     "metadata": {},
     "output_type": "execute_result"
    }
   ],
   "source": [
    "test_df.set_index('Unnamed: 0', inplace = True)\n",
    "test_df.set_index('employee_id', inplace = True)\n",
    "test_df.head()"
   ]
  },
  {
   "cell_type": "markdown",
   "metadata": {},
   "source": [
    "## Data Splitting"
   ]
  },
  {
   "cell_type": "code",
   "execution_count": 19,
   "metadata": {},
   "outputs": [],
   "source": [
    "Y = train_df['is_promoted']\n",
    "X = train_df.drop(['is_promoted'], axis=1)\n",
    "X_train, X_test, y_train, y_test = train_test_split(X, Y, test_size=0.2, random_state=42)"
   ]
  },
  {
   "cell_type": "code",
   "execution_count": 46,
   "metadata": {},
   "outputs": [
    {
     "name": "stdout",
     "output_type": "stream",
     "text": [
      "0.5960620525059666\n"
     ]
    }
   ],
   "source": [
    "clf = RandomForestClassifier(max_depth=60, random_state=0, min_samples_split=10)\n",
    "clf.fit(X, Y)\n",
    "print(f1_score(Y, clf.predict(X)))\n",
    "pred = clf.predict(test_df)"
   ]
  },
  {
   "cell_type": "code",
   "execution_count": 50,
   "metadata": {},
   "outputs": [
    {
     "data": {
      "text/html": [
       "<div>\n",
       "<style scoped>\n",
       "    .dataframe tbody tr th:only-of-type {\n",
       "        vertical-align: middle;\n",
       "    }\n",
       "\n",
       "    .dataframe tbody tr th {\n",
       "        vertical-align: top;\n",
       "    }\n",
       "\n",
       "    .dataframe thead th {\n",
       "        text-align: right;\n",
       "    }\n",
       "</style>\n",
       "<table border=\"1\" class=\"dataframe\">\n",
       "  <thead>\n",
       "    <tr style=\"text-align: right;\">\n",
       "      <th></th>\n",
       "      <th>employee_id</th>\n",
       "      <th>is_promoted</th>\n",
       "    </tr>\n",
       "  </thead>\n",
       "  <tbody>\n",
       "    <tr>\n",
       "      <th>0</th>\n",
       "      <td>8724</td>\n",
       "      <td>0</td>\n",
       "    </tr>\n",
       "    <tr>\n",
       "      <th>1</th>\n",
       "      <td>74430</td>\n",
       "      <td>0</td>\n",
       "    </tr>\n",
       "    <tr>\n",
       "      <th>2</th>\n",
       "      <td>72255</td>\n",
       "      <td>0</td>\n",
       "    </tr>\n",
       "    <tr>\n",
       "      <th>3</th>\n",
       "      <td>38562</td>\n",
       "      <td>0</td>\n",
       "    </tr>\n",
       "    <tr>\n",
       "      <th>4</th>\n",
       "      <td>64486</td>\n",
       "      <td>0</td>\n",
       "    </tr>\n",
       "  </tbody>\n",
       "</table>\n",
       "</div>"
      ],
      "text/plain": [
       "   employee_id  is_promoted\n",
       "0         8724            0\n",
       "1        74430            0\n",
       "2        72255            0\n",
       "3        38562            0\n",
       "4        64486            0"
      ]
     },
     "execution_count": 50,
     "metadata": {},
     "output_type": "execute_result"
    }
   ],
   "source": [
    "sam = pd.read_csv('../data/sample_submission_M0L0uXE.csv')\n",
    "sam.head()"
   ]
  },
  {
   "cell_type": "code",
   "execution_count": 55,
   "metadata": {},
   "outputs": [],
   "source": [
    "predictions = pd.DataFrame(pred)\n",
    "predictions['employee_id'] = test_df.index.values"
   ]
  },
  {
   "cell_type": "code",
   "execution_count": 62,
   "metadata": {},
   "outputs": [],
   "source": [
    "predictions.columns = ['is_promoted', 'employee_id']\n",
    "predictions.set_index('employee_id', inplace = True)"
   ]
  },
  {
   "cell_type": "code",
   "execution_count": 63,
   "metadata": {
    "scrolled": false
   },
   "outputs": [
    {
     "data": {
      "text/plain": [
       "0    22848\n",
       "1      642\n",
       "Name: is_promoted, dtype: int64"
      ]
     },
     "execution_count": 63,
     "metadata": {},
     "output_type": "execute_result"
    }
   ],
   "source": [
    "predictions.is_promoted.value_counts()"
   ]
  },
  {
   "cell_type": "code",
   "execution_count": 64,
   "metadata": {},
   "outputs": [
    {
     "data": {
      "text/html": [
       "<div>\n",
       "<style scoped>\n",
       "    .dataframe tbody tr th:only-of-type {\n",
       "        vertical-align: middle;\n",
       "    }\n",
       "\n",
       "    .dataframe tbody tr th {\n",
       "        vertical-align: top;\n",
       "    }\n",
       "\n",
       "    .dataframe thead th {\n",
       "        text-align: right;\n",
       "    }\n",
       "</style>\n",
       "<table border=\"1\" class=\"dataframe\">\n",
       "  <thead>\n",
       "    <tr style=\"text-align: right;\">\n",
       "      <th></th>\n",
       "      <th>is_promoted</th>\n",
       "    </tr>\n",
       "    <tr>\n",
       "      <th>employee_id</th>\n",
       "      <th></th>\n",
       "    </tr>\n",
       "  </thead>\n",
       "  <tbody>\n",
       "    <tr>\n",
       "      <th>8724</th>\n",
       "      <td>0</td>\n",
       "    </tr>\n",
       "    <tr>\n",
       "      <th>74430</th>\n",
       "      <td>0</td>\n",
       "    </tr>\n",
       "    <tr>\n",
       "      <th>72255</th>\n",
       "      <td>0</td>\n",
       "    </tr>\n",
       "    <tr>\n",
       "      <th>38562</th>\n",
       "      <td>0</td>\n",
       "    </tr>\n",
       "    <tr>\n",
       "      <th>64486</th>\n",
       "      <td>0</td>\n",
       "    </tr>\n",
       "  </tbody>\n",
       "</table>\n",
       "</div>"
      ],
      "text/plain": [
       "             is_promoted\n",
       "employee_id             \n",
       "8724                   0\n",
       "74430                  0\n",
       "72255                  0\n",
       "38562                  0\n",
       "64486                  0"
      ]
     },
     "execution_count": 64,
     "metadata": {},
     "output_type": "execute_result"
    }
   ],
   "source": [
    "predictions.head()"
   ]
  },
  {
   "cell_type": "code",
   "execution_count": 65,
   "metadata": {},
   "outputs": [],
   "source": [
    "predictions.to_csv('../output/14_15.50.csv')"
   ]
  },
  {
   "cell_type": "code",
   "execution_count": 44,
   "metadata": {},
   "outputs": [
    {
     "name": "stdout",
     "output_type": "stream",
     "text": [
      "50 2 train: 0.93940  0.40383\n",
      "50 5 train: 0.75025  0.43851\n",
      "50 8 train: 0.63393  0.42940\n",
      "50 10 train: 0.59901  0.43105\n",
      "50 12 train: 0.54793  0.42496\n",
      "50 15 train: 0.51875  0.41126\n",
      "50 17 train: 0.52713  0.42097\n",
      "50 20 train: 0.52006  0.43960\n",
      "60 2 train: 0.93939  0.38678\n",
      "60 5 train: 0.75685  0.43052\n",
      "60 8 train: 0.63551  0.42669\n",
      "60 10 train: 0.60158  0.44171\n",
      "60 12 train: 0.55426  0.42424\n",
      "60 15 train: 0.51835  0.40474\n",
      "60 17 train: 0.53130  0.42500\n",
      "60 20 train: 0.52006  0.43960\n",
      "70 2 train: 0.93939  0.38678\n",
      "70 5 train: 0.75685  0.43052\n",
      "70 8 train: 0.63551  0.42669\n",
      "70 10 train: 0.60158  0.44171\n",
      "70 12 train: 0.55426  0.42424\n",
      "70 15 train: 0.51835  0.40474\n",
      "70 17 train: 0.53130  0.42500\n",
      "70 20 train: 0.52006  0.43960\n",
      "80 2 train: 0.93939  0.38678\n",
      "80 5 train: 0.75685  0.43052\n",
      "80 8 train: 0.63551  0.42669\n",
      "80 10 train: 0.60158  0.44171\n",
      "80 12 train: 0.55426  0.42424\n",
      "80 15 train: 0.51835  0.40474\n",
      "80 17 train: 0.53130  0.42500\n",
      "80 20 train: 0.52006  0.43960\n",
      "90 2 train: 0.93939  0.38678\n",
      "90 5 train: 0.75685  0.43052\n",
      "90 8 train: 0.63551  0.42669\n",
      "90 10 train: 0.60158  0.44171\n",
      "90 12 train: 0.55426  0.42424\n",
      "90 15 train: 0.51835  0.40474\n",
      "90 17 train: 0.53130  0.42500\n",
      "90 20 train: 0.52006  0.43960\n"
     ]
    }
   ],
   "source": [
    "from sklearn.ensemble import RandomForestClassifier\n",
    "for i in [50, 60, 70, 80, 90]:\n",
    "    for j in [2, 5, 8, 10, 12, 15, 17, 20]:    \n",
    "        clf = RandomForestClassifier(max_depth=i, random_state=0, min_samples_split=j)\n",
    "        clf.fit(X_train, y_train)\n",
    "        predtrain = clf.predict(X_train)\n",
    "        predtest = clf.predict(X_test)\n",
    "        print(i, j, 'train: {0:.5f}'.format(f1_score(y_train, predtrain)), ' {0:.5f}'.format(f1_score(y_test, predtest)))"
   ]
  },
  {
   "cell_type": "code",
   "execution_count": 23,
   "metadata": {},
   "outputs": [],
   "source": [
    "from imblearn.over_sampling import RandomOverSampler\n",
    "from imblearn.under_sampling import RandomUnderSampler"
   ]
  },
  {
   "cell_type": "code",
   "execution_count": 24,
   "metadata": {},
   "outputs": [],
   "source": [
    "ros = RandomOverSampler(random_state=0)\n",
    "ros.fit(X_train, y_train)\n",
    "X_resampled, y_resampled = ros.sample(X_train, y_train)"
   ]
  },
  {
   "cell_type": "code",
   "execution_count": 43,
   "metadata": {
    "scrolled": true
   },
   "outputs": [
    {
     "name": "stdout",
     "output_type": "stream",
     "text": [
      "50 2 train: 0.74912  0.40471\n",
      "50 5 train: 0.67346  0.39460\n",
      "50 8 train: 0.63754  0.40363\n",
      "50 10 train: 0.61898  0.41009\n",
      "50 12 train: 0.60605  0.41368\n",
      "50 15 train: 0.58225  0.40790\n",
      "50 17 train: 0.57530  0.39917\n",
      "50 20 train: 0.56512  0.40127\n",
      "60 2 train: 0.74766  0.40918\n",
      "60 5 train: 0.67468  0.39860\n",
      "60 8 train: 0.64212  0.39687\n",
      "60 10 train: 0.62529  0.40296\n",
      "60 12 train: 0.61622  0.41422\n",
      "60 15 train: 0.58244  0.40421\n",
      "60 17 train: 0.57643  0.42033\n",
      "60 20 train: 0.56942  0.40342\n",
      "70 2 train: 0.74817  0.40974\n",
      "70 5 train: 0.67333  0.39667\n",
      "70 8 train: 0.64269  0.39810\n",
      "70 10 train: 0.62529  0.40296\n",
      "70 12 train: 0.61622  0.41422\n",
      "70 15 train: 0.58153  0.40049\n",
      "70 17 train: 0.57132  0.40555\n",
      "70 20 train: 0.56882  0.39757\n",
      "80 2 train: 0.74817  0.40974\n",
      "80 5 train: 0.67333  0.39667\n",
      "80 8 train: 0.64269  0.39810\n",
      "80 10 train: 0.62529  0.40296\n",
      "80 12 train: 0.61622  0.41422\n",
      "80 15 train: 0.58153  0.40049\n",
      "80 17 train: 0.57132  0.40555\n",
      "80 20 train: 0.56882  0.39757\n",
      "90 2 train: 0.74817  0.40974\n",
      "90 5 train: 0.67333  0.39667\n",
      "90 8 train: 0.64269  0.39810\n",
      "90 10 train: 0.62529  0.40296\n",
      "90 12 train: 0.61622  0.41422\n",
      "90 15 train: 0.58153  0.40049\n",
      "90 17 train: 0.57132  0.40555\n",
      "90 20 train: 0.56882  0.39757\n"
     ]
    }
   ],
   "source": [
    "from sklearn.ensemble import RandomForestClassifier\n",
    "for i in [50, 60, 70, 80, 90]:\n",
    "    for j in [2, 5, 8, 10, 12, 15, 17, 20]:    \n",
    "        clf = RandomForestClassifier(max_depth=i, random_state=0, min_samples_split=j)\n",
    "        clf.fit(X_resampled, y_resampled)\n",
    "        predtrain = clf.predict(X_train)\n",
    "        predtest = clf.predict(X_test)\n",
    "        print(i, j, 'train: {0:.5f}'.format(f1_score(y_train, predtrain)), ' {0:.5f}'.format(f1_score(y_test, predtest)))"
   ]
  },
  {
   "cell_type": "code",
   "execution_count": 34,
   "metadata": {},
   "outputs": [
    {
     "name": "stdout",
     "output_type": "stream",
     "text": [
      "50 2 train: 0.46536  0.36158\n",
      "50 5 train: 0.41867  0.35262\n",
      "50 8 train: 0.41015  0.35560\n",
      "50 10 train: 0.40225  0.35163\n",
      "60 2 train: 0.46536  0.36158\n",
      "60 5 train: 0.42012  0.35433\n",
      "60 8 train: 0.41015  0.35560\n",
      "60 10 train: 0.40225  0.35163\n",
      "70 2 train: 0.46536  0.36158\n",
      "70 5 train: 0.42012  0.35433\n",
      "70 8 train: 0.41015  0.35560\n",
      "70 10 train: 0.40225  0.35163\n",
      "80 2 train: 0.46536  0.36158\n",
      "80 5 train: 0.42012  0.35433\n",
      "80 8 train: 0.41015  0.35560\n",
      "80 10 train: 0.40225  0.35163\n",
      "90 2 train: 0.46536  0.36158\n",
      "90 5 train: 0.42012  0.35433\n",
      "90 8 train: 0.41015  0.35560\n",
      "90 10 train: 0.40225  0.35163\n"
     ]
    }
   ],
   "source": [
    "rus = RandomUnderSampler(random_state=0)\n",
    "rus.fit(X_train, y_train)\n",
    "X_resampled, y_resampled = rus.sample(X_train, y_train)\n",
    "from sklearn.ensemble import RandomForestClassifier\n",
    "for i in [50, 60, 70, 80, 90]:\n",
    "    for j in [2, 5, 8, 10]:    \n",
    "        clf = RandomForestClassifier(max_depth=i, random_state=0, min_samples_split=j)\n",
    "        clf.fit(X_resampled, y_resampled)\n",
    "        predtrain = clf.predict(X_train)\n",
    "        predtest = clf.predict(X_test)\n",
    "        print(i, j, 'train: {0:.5f}'.format(f1_score(y_train, predtrain)), ' {0:.5f}'.format(f1_score(y_test, predtest)))"
   ]
  },
  {
   "cell_type": "code",
   "execution_count": 35,
   "metadata": {},
   "outputs": [
    {
     "name": "stdout",
     "output_type": "stream",
     "text": [
      "50 2 train: 0.26262  0.25951\n",
      "50 5 train: 0.20508  0.19975\n",
      "50 8 train: 0.20195  0.19618\n",
      "50 10 train: 0.18241  0.17815\n",
      "60 2 train: 0.26262  0.25951\n",
      "60 5 train: 0.20508  0.19975\n",
      "60 8 train: 0.20195  0.19618\n",
      "60 10 train: 0.18241  0.17815\n",
      "70 2 train: 0.26262  0.25951\n",
      "70 5 train: 0.20508  0.19975\n",
      "70 8 train: 0.20195  0.19618\n",
      "70 10 train: 0.18241  0.17815\n",
      "80 2 train: 0.26262  0.25951\n",
      "80 5 train: 0.20508  0.19975\n",
      "80 8 train: 0.20195  0.19618\n",
      "80 10 train: 0.18241  0.17815\n",
      "90 2 train: 0.26262  0.25951\n",
      "90 5 train: 0.20508  0.19975\n",
      "90 8 train: 0.20195  0.19618\n",
      "90 10 train: 0.18241  0.17815\n"
     ]
    }
   ],
   "source": [
    "rus = RandomUnderSampler(random_state=0, ratio={0: 20, 1: 80})\n",
    "rus.fit(X_train, y_train)\n",
    "X_resampled, y_resampled = rus.sample(X_train, y_train)\n",
    "from sklearn.ensemble import RandomForestClassifier\n",
    "for i in [50, 60, 70, 80, 90]:\n",
    "    for j in [2, 5, 8, 10]:    \n",
    "        clf = RandomForestClassifier(max_depth=i, random_state=0, min_samples_split=j)\n",
    "        clf.fit(X_resampled, y_resampled)\n",
    "        predtrain = clf.predict(X_train)\n",
    "        predtest = clf.predict(X_test)\n",
    "        print(i, j, 'train: {0:.5f}'.format(f1_score(y_train, predtrain)), ' {0:.5f}'.format(f1_score(y_test, predtest)))"
   ]
  },
  {
   "cell_type": "code",
   "execution_count": 37,
   "metadata": {},
   "outputs": [
    {
     "name": "stdout",
     "output_type": "stream",
     "text": [
      "50 2 train: 0.95467  0.39595\n",
      "50 5 train: 0.83155  0.39909\n",
      "50 8 train: 0.75823  0.40627\n",
      "50 10 train: 0.72314  0.40678\n",
      "60 2 train: 0.95853  0.39070\n",
      "60 5 train: 0.83369  0.41353\n",
      "60 8 train: 0.75297  0.40185\n",
      "60 10 train: 0.72745  0.41821\n",
      "70 2 train: 0.95781  0.38665\n",
      "70 5 train: 0.83229  0.40982\n",
      "70 8 train: 0.75350  0.40801\n",
      "70 10 train: 0.72739  0.40520\n",
      "80 2 train: 0.95781  0.38665\n",
      "80 5 train: 0.83229  0.40982\n",
      "80 8 train: 0.75350  0.40801\n",
      "80 10 train: 0.72739  0.40520\n",
      "90 2 train: 0.95781  0.38665\n",
      "90 5 train: 0.83229  0.40982\n",
      "90 8 train: 0.75350  0.40801\n",
      "90 10 train: 0.72739  0.40520\n"
     ]
    }
   ],
   "source": [
    "from imblearn.over_sampling import SMOTE, ADASYN\n",
    "rus = SMOTE(random_state=0)\n",
    "rus.fit(X_train, y_train)\n",
    "X_resampled, y_resampled = rus.sample(X_train, y_train)\n",
    "from sklearn.ensemble import RandomForestClassifier\n",
    "for i in [50, 60, 70, 80, 90]:\n",
    "    for j in [2, 5, 8, 10]:    \n",
    "        clf = RandomForestClassifier(max_depth=i, random_state=0, min_samples_split=j)\n",
    "        clf.fit(X_resampled, y_resampled)\n",
    "        predtrain = clf.predict(X_train)\n",
    "        predtest = clf.predict(X_test)\n",
    "        print(i, j, 'train: {0:.5f}'.format(f1_score(y_train, predtrain)), ' {0:.5f}'.format(f1_score(y_test, predtest)))"
   ]
  },
  {
   "cell_type": "code",
   "execution_count": 38,
   "metadata": {},
   "outputs": [
    {
     "name": "stdout",
     "output_type": "stream",
     "text": [
      "50 2 train: 0.95510  0.37812\n",
      "50 5 train: 0.82537  0.38462\n",
      "50 8 train: 0.76118  0.40000\n",
      "50 10 train: 0.73184  0.39877\n",
      "60 2 train: 0.95523  0.35052\n",
      "60 5 train: 0.82865  0.40541\n",
      "60 8 train: 0.75818  0.40625\n",
      "60 10 train: 0.73691  0.39876\n",
      "70 2 train: 0.95481  0.36321\n",
      "70 5 train: 0.82865  0.40541\n",
      "70 8 train: 0.75784  0.41634\n",
      "70 10 train: 0.73351  0.40000\n",
      "80 2 train: 0.95481  0.36321\n",
      "80 5 train: 0.82865  0.40541\n",
      "80 8 train: 0.75784  0.41634\n",
      "80 10 train: 0.73351  0.40000\n",
      "90 2 train: 0.95481  0.36321\n",
      "90 5 train: 0.82865  0.40541\n",
      "90 8 train: 0.75784  0.41634\n",
      "90 10 train: 0.73351  0.40000\n"
     ]
    }
   ],
   "source": [
    "from imblearn.over_sampling import ADASYN\n",
    "rus = ADASYN(random_state=0)\n",
    "rus.fit(X_train, y_train)\n",
    "X_resampled, y_resampled = rus.sample(X_train, y_train)\n",
    "from sklearn.ensemble import RandomForestClassifier\n",
    "for i in [50, 60, 70, 80, 90]:\n",
    "    for j in [2, 5, 8, 10]:    \n",
    "        clf = RandomForestClassifier(max_depth=i, random_state=0, min_samples_split=j)\n",
    "        clf.fit(X_resampled, y_resampled)\n",
    "        predtrain = clf.predict(X_train)\n",
    "        predtest = clf.predict(X_test)\n",
    "        print(i, j, 'train: {0:.5f}'.format(f1_score(y_train, predtrain)), ' {0:.5f}'.format(f1_score(y_test, predtest)))"
   ]
  },
  {
   "cell_type": "code",
   "execution_count": 39,
   "metadata": {},
   "outputs": [
    {
     "name": "stdout",
     "output_type": "stream",
     "text": [
      "50 2 train: 0.25859  0.18118\n",
      "50 5 train: 0.21681  0.16967\n",
      "50 8 train: 0.20324  0.16692\n",
      "50 10 train: 0.20509  0.17420\n",
      "60 2 train: 0.25624  0.18010\n",
      "60 5 train: 0.21681  0.16967\n",
      "60 8 train: 0.20324  0.16692\n",
      "60 10 train: 0.20509  0.17420\n",
      "70 2 train: 0.25624  0.18010\n",
      "70 5 train: 0.21681  0.16967\n",
      "70 8 train: 0.20324  0.16692\n",
      "70 10 train: 0.20509  0.17420\n",
      "80 2 train: 0.25624  0.18010\n",
      "80 5 train: 0.21681  0.16967\n",
      "80 8 train: 0.20324  0.16692\n",
      "80 10 train: 0.20509  0.17420\n",
      "90 2 train: 0.25624  0.18010\n",
      "90 5 train: 0.21681  0.16967\n",
      "90 8 train: 0.20324  0.16692\n",
      "90 10 train: 0.20509  0.17420\n"
     ]
    }
   ],
   "source": [
    "from imblearn.under_sampling import NearMiss\n",
    "rus = NearMiss(random_state=0)\n",
    "rus.fit(X_train, y_train)\n",
    "X_resampled, y_resampled = rus.sample(X_train, y_train)\n",
    "from sklearn.ensemble import RandomForestClassifier\n",
    "for i in [50, 60, 70, 80, 90]:\n",
    "    for j in [2, 5, 8, 10]:    \n",
    "        clf = RandomForestClassifier(max_depth=i, random_state=0, min_samples_split=j)\n",
    "        clf.fit(X_resampled, y_resampled)\n",
    "        predtrain = clf.predict(X_train)\n",
    "        predtest = clf.predict(X_test)\n",
    "        print(i, j, 'train: {0:.5f}'.format(f1_score(y_train, predtrain)), ' {0:.5f}'.format(f1_score(y_test, predtest)))"
   ]
  },
  {
   "cell_type": "code",
   "execution_count": 40,
   "metadata": {},
   "outputs": [
    {
     "name": "stdout",
     "output_type": "stream",
     "text": [
      "50 2 train: 0.74912  0.40471\n",
      "50 5 train: 0.67346  0.39460\n",
      "50 8 train: 0.63754  0.40363\n",
      "50 10 train: 0.61898  0.41009\n",
      "60 2 train: 0.74766  0.40918\n",
      "60 5 train: 0.67468  0.39860\n",
      "60 8 train: 0.64212  0.39687\n",
      "60 10 train: 0.62529  0.40296\n",
      "70 2 train: 0.74817  0.40974\n",
      "70 5 train: 0.67333  0.39667\n",
      "70 8 train: 0.64269  0.39810\n",
      "70 10 train: 0.62529  0.40296\n",
      "80 2 train: 0.74817  0.40974\n",
      "80 5 train: 0.67333  0.39667\n",
      "80 8 train: 0.64269  0.39810\n",
      "80 10 train: 0.62529  0.40296\n",
      "90 2 train: 0.74817  0.40974\n",
      "90 5 train: 0.67333  0.39667\n",
      "90 8 train: 0.64269  0.39810\n",
      "90 10 train: 0.62529  0.40296\n"
     ]
    }
   ],
   "source": [
    "from imblearn.combine import SMOTEENN \n",
    "rus = SMOTEENN(random_state=0)\n",
    "rus.fit(X_train, y_train)\n",
    "X_resampled, y_resampled = rus.sample(X_train, y_train)\n",
    "from sklearn.ensemble import RandomForestClassifier\n",
    "for i in [50, 60, 70, 80, 90]:\n",
    "    for j in [2, 5, 8, 10]:    \n",
    "        clf = RandomForestClassifier(max_depth=i, random_state=0, min_samples_split=j)\n",
    "        clf.fit(X_resampled, y_resampled)\n",
    "        predtrain = clf.predict(X_train)\n",
    "        predtest = clf.predict(X_test)\n",
    "        print(i, j, 'train: {0:.5f}'.format(f1_score(y_train, predtrain)), ' {0:.5f}'.format(f1_score(y_test, predtest)))"
   ]
  },
  {
   "cell_type": "code",
   "execution_count": 42,
   "metadata": {},
   "outputs": [
    {
     "name": "stdout",
     "output_type": "stream",
     "text": [
      "50 2 train: 0.74912  0.40471\n",
      "50 5 train: 0.67346  0.39460\n",
      "50 8 train: 0.63754  0.40363\n",
      "50 10 train: 0.61898  0.41009\n",
      "50 15 train: 0.58225  0.40790\n",
      "50 20 train: 0.56512  0.40127\n",
      "60 2 train: 0.74766  0.40918\n",
      "60 5 train: 0.67468  0.39860\n",
      "60 8 train: 0.64212  0.39687\n",
      "60 10 train: 0.62529  0.40296\n",
      "60 15 train: 0.58244  0.40421\n",
      "60 20 train: 0.56942  0.40342\n",
      "70 2 train: 0.74817  0.40974\n",
      "70 5 train: 0.67333  0.39667\n",
      "70 8 train: 0.64269  0.39810\n",
      "70 10 train: 0.62529  0.40296\n",
      "70 15 train: 0.58153  0.40049\n",
      "70 20 train: 0.56882  0.39757\n",
      "80 2 train: 0.74817  0.40974\n",
      "80 5 train: 0.67333  0.39667\n",
      "80 8 train: 0.64269  0.39810\n",
      "80 10 train: 0.62529  0.40296\n",
      "80 15 train: 0.58153  0.40049\n",
      "80 20 train: 0.56882  0.39757\n",
      "90 2 train: 0.74817  0.40974\n",
      "90 5 train: 0.67333  0.39667\n",
      "90 8 train: 0.64269  0.39810\n",
      "90 10 train: 0.62529  0.40296\n",
      "90 15 train: 0.58153  0.40049\n",
      "90 20 train: 0.56882  0.39757\n"
     ]
    }
   ],
   "source": [
    "from imblearn.combine import SMOTETomek \n",
    "rus = SMOTEENN(random_state=0)\n",
    "rus.fit(X_train, y_train)\n",
    "X_resampled, y_resampled = rus.sample(X_train, y_train)\n",
    "from sklearn.ensemble import RandomForestClassifier\n",
    "for i in [50, 60, 70, 80, 90]:\n",
    "    for j in [2, 5, 8, 10, 15, 20]:    \n",
    "        clf = RandomForestClassifier(max_depth=i, random_state=0, min_samples_split=j)\n",
    "        clf.fit(X_resampled, y_resampled)\n",
    "        predtrain = clf.predict(X_train)\n",
    "        predtest = clf.predict(X_test)\n",
    "        print(i, j, 'train: {0:.5f}'.format(f1_score(y_train, predtrain)), ' {0:.5f}'.format(f1_score(y_test, predtest)))"
   ]
  },
  {
   "cell_type": "code",
   "execution_count": null,
   "metadata": {},
   "outputs": [],
   "source": []
  }
 ],
 "metadata": {
  "kernelspec": {
   "display_name": "Python 3",
   "language": "python",
   "name": "python3"
  },
  "language_info": {
   "codemirror_mode": {
    "name": "ipython",
    "version": 3
   },
   "file_extension": ".py",
   "mimetype": "text/x-python",
   "name": "python",
   "nbconvert_exporter": "python",
   "pygments_lexer": "ipython3",
   "version": "3.6.5"
  }
 },
 "nbformat": 4,
 "nbformat_minor": 2
}
