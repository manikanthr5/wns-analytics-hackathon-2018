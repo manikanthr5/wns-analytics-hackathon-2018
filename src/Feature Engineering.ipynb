{
 "cells": [
  {
   "cell_type": "markdown",
   "metadata": {},
   "source": [
    "# Feature Engineering"
   ]
  },
  {
   "cell_type": "code",
   "execution_count": 1,
   "metadata": {},
   "outputs": [],
   "source": [
    "%matplotlib inline\n",
    "\n",
    "import numpy as np\n",
    "import pandas as pd\n",
    "import scipy\n",
    "\n",
    "from sklearn.model_selection import train_test_split"
   ]
  },
  {
   "cell_type": "code",
   "execution_count": 2,
   "metadata": {},
   "outputs": [],
   "source": [
    "from sklearn.metrics import f1_score"
   ]
  },
  {
   "cell_type": "code",
   "execution_count": 3,
   "metadata": {},
   "outputs": [],
   "source": [
    "train_df = pd.read_csv('../cleaned_data/train.csv')\n",
    "test_df = pd.read_csv('../cleaned_data/test.csv')\n",
    "\n",
    "\n",
    "train_df.drop('Unnamed: 0', axis = 1, inplace = True)\n",
    "train_df.set_index('employee_id', inplace = True)\n",
    "test_df.drop('Unnamed: 0', axis = 1, inplace = True)\n",
    "test_df.set_index('employee_id', inplace = True)"
   ]
  },
  {
   "cell_type": "markdown",
   "metadata": {},
   "source": [
    "## Correlational Analysis"
   ]
  },
  {
   "cell_type": "code",
   "execution_count": null,
   "metadata": {},
   "outputs": [],
   "source": [
    "np.abs(train_df.corr()['is_promoted']).sort_values()[::-1].index[1:11]"
   ]
  },
  {
   "cell_type": "code",
   "execution_count": null,
   "metadata": {},
   "outputs": [],
   "source": [
    "features_1 = [\"predicted_rating\", \"KPIs_met >80%\", \"awards_won?\",\n",
    "       \"avg_training_score\", \"previous_year_rating\", \"region_4\", \"region_22\",\n",
    "       \"department_sales_and_martketing\", \"department_technology\",\n",
    "       \"Master's & above\"]"
   ]
  },
  {
   "cell_type": "code",
   "execution_count": null,
   "metadata": {
    "scrolled": true
   },
   "outputs": [],
   "source": [
    "features_1"
   ]
  },
  {
   "cell_type": "code",
   "execution_count": null,
   "metadata": {},
   "outputs": [],
   "source": [
    "train_df.head()"
   ]
  },
  {
   "cell_type": "code",
   "execution_count": null,
   "metadata": {},
   "outputs": [],
   "source": [
    "from sklearn.ensemble import RandomForestClassifier\n",
    "\n",
    "Y = train_df['is_promoted']\n",
    "X = train_df.drop(['is_promoted'], axis=1)\n",
    "X = X[features_1]\n",
    "newtest_df = test_df[features_1]\n",
    "X_train, X_test, y_train, y_test = train_test_split(X, Y, test_size=0.2, random_state=42)\n",
    "clf = RandomForestClassifier(max_depth=40, random_state=0, min_samples_split=10)\n",
    "clf.fit(X, Y)\n",
    "print(f1_score(Y, clf.predict(X)))\n",
    "pred = clf.predict(newtest_df)"
   ]
  },
  {
   "cell_type": "code",
   "execution_count": null,
   "metadata": {
    "scrolled": true
   },
   "outputs": [],
   "source": [
    "train_df.describe().iloc[:, 1:10]"
   ]
  },
  {
   "cell_type": "code",
   "execution_count": null,
   "metadata": {},
   "outputs": [],
   "source": []
  },
  {
   "cell_type": "markdown",
   "metadata": {},
   "source": [
    "## Scaling Data"
   ]
  },
  {
   "cell_type": "code",
   "execution_count": 19,
   "metadata": {},
   "outputs": [],
   "source": [
    "from sklearn.preprocessing import StandardScaler\n",
    "scaler = StandardScaler()\n",
    "Y = train_df['is_promoted']\n",
    "X = train_df.drop(['is_promoted'], axis=1)\n",
    "# X = scaler.fit_transform(X)\n",
    "# newtest_df = scaler.transform(test_df)\n",
    "X_train, X_test, y_train, y_test = train_test_split(X, Y, test_size=0.2, random_state=42)"
   ]
  },
  {
   "cell_type": "code",
   "execution_count": 20,
   "metadata": {},
   "outputs": [
    {
     "name": "stdout",
     "output_type": "stream",
     "text": [
      "0.42892768079800503\n"
     ]
    }
   ],
   "source": [
    "from sklearn.ensemble import RandomForestClassifier\n",
    "clf = RandomForestClassifier(max_depth=40, random_state=0, min_samples_split=10)\n",
    "clf.fit(X_train, y_train)\n",
    "print(f1_score(y_test, clf.predict(X_test)))"
   ]
  },
  {
   "cell_type": "code",
   "execution_count": 21,
   "metadata": {},
   "outputs": [
    {
     "name": "stdout",
     "output_type": "stream",
     "text": [
      "0.43835616438356173\n"
     ]
    }
   ],
   "source": [
    "from sklearn.svm import SVC\n",
    "clf = SVC()\n",
    "clf.fit(X_train, y_train)\n",
    "print(f1_score(y_test, clf.predict(X_test)))"
   ]
  },
  {
   "cell_type": "markdown",
   "metadata": {},
   "source": [
    "## Correlational Analysis"
   ]
  },
  {
   "cell_type": "code",
   "execution_count": 8,
   "metadata": {
    "scrolled": false
   },
   "outputs": [
    {
     "data": {
      "text/plain": [
       "predicted_rating          0.265593\n",
       "KPIs_met >80%             0.221582\n",
       "awards_won?               0.195871\n",
       "avg_training_score        0.181147\n",
       "previous_year_rating      0.153230\n",
       "region_4                  0.038031\n",
       "region_22                 0.037893\n",
       "department_technology     0.031085\n",
       "Master's & above          0.029343\n",
       "region_7                  0.023841\n",
       "region_17                 0.022513\n",
       "referred                  0.018641\n",
       "region_25                 0.017911\n",
       "region_28                 0.017812\n",
       "region_23                 0.016664\n",
       "department_procurement    0.015548\n",
       "department_analytics      0.012369\n",
       "department_operations     0.009113\n",
       "region_3                  0.006215\n",
       "Name: is_promoted, dtype: float64"
      ]
     },
     "execution_count": 8,
     "metadata": {},
     "output_type": "execute_result"
    }
   ],
   "source": [
    "train_df.corr()['is_promoted'].sort_values()[::-1][1:20]"
   ]
  },
  {
   "cell_type": "code",
   "execution_count": null,
   "metadata": {},
   "outputs": [],
   "source": []
  }
 ],
 "metadata": {
  "kernelspec": {
   "display_name": "Python 3",
   "language": "python",
   "name": "python3"
  },
  "language_info": {
   "codemirror_mode": {
    "name": "ipython",
    "version": 3
   },
   "file_extension": ".py",
   "mimetype": "text/x-python",
   "name": "python",
   "nbconvert_exporter": "python",
   "pygments_lexer": "ipython3",
   "version": "3.6.5"
  }
 },
 "nbformat": 4,
 "nbformat_minor": 2
}
