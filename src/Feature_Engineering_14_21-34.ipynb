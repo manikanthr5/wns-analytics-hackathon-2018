{
 "cells": [
  {
   "cell_type": "markdown",
   "metadata": {},
   "source": [
    "# Feature Engineering"
   ]
  },
  {
   "cell_type": "code",
   "execution_count": 1,
   "metadata": {},
   "outputs": [],
   "source": [
    "%matplotlib inline\n",
    "\n",
    "import numpy as np\n",
    "import pandas as pd\n",
    "import scipy\n",
    "\n",
    "from sklearn.model_selection import train_test_split"
   ]
  },
  {
   "cell_type": "code",
   "execution_count": 2,
   "metadata": {},
   "outputs": [],
   "source": [
    "from sklearn.metrics import f1_score"
   ]
  },
  {
   "cell_type": "code",
   "execution_count": 3,
   "metadata": {},
   "outputs": [],
   "source": [
    "train_df = pd.read_csv('../cleaned_data/train.csv')\n",
    "test_df = pd.read_csv('../cleaned_data/test.csv')\n",
    "\n",
    "\n",
    "train_df.drop('Unnamed: 0', axis = 1, inplace = True)\n",
    "train_df.set_index('employee_id', inplace = True)\n",
    "test_df.drop('Unnamed: 0', axis = 1, inplace = True)\n",
    "test_df.set_index('employee_id', inplace = True)"
   ]
  },
  {
   "cell_type": "markdown",
   "metadata": {},
   "source": [
    "## New Features"
   ]
  },
  {
   "cell_type": "code",
   "execution_count": 4,
   "metadata": {},
   "outputs": [
    {
     "data": {
      "text/html": [
       "<div>\n",
       "<style scoped>\n",
       "    .dataframe tbody tr th:only-of-type {\n",
       "        vertical-align: middle;\n",
       "    }\n",
       "\n",
       "    .dataframe tbody tr th {\n",
       "        vertical-align: top;\n",
       "    }\n",
       "\n",
       "    .dataframe thead th {\n",
       "        text-align: right;\n",
       "    }\n",
       "</style>\n",
       "<table border=\"1\" class=\"dataframe\">\n",
       "  <thead>\n",
       "    <tr style=\"text-align: right;\">\n",
       "      <th></th>\n",
       "      <th>gender</th>\n",
       "      <th>no_of_trainings</th>\n",
       "      <th>age</th>\n",
       "      <th>previous_year_rating</th>\n",
       "      <th>length_of_service</th>\n",
       "      <th>KPIs_met &gt;80%</th>\n",
       "      <th>awards_won?</th>\n",
       "      <th>avg_training_score</th>\n",
       "      <th>is_promoted</th>\n",
       "      <th>department_analytics</th>\n",
       "    </tr>\n",
       "  </thead>\n",
       "  <tbody>\n",
       "    <tr>\n",
       "      <th>count</th>\n",
       "      <td>54808.000000</td>\n",
       "      <td>54808.000000</td>\n",
       "      <td>54808.000000</td>\n",
       "      <td>54808.000000</td>\n",
       "      <td>54808.000000</td>\n",
       "      <td>54808.000000</td>\n",
       "      <td>54808.000000</td>\n",
       "      <td>54808.000000</td>\n",
       "      <td>54808.000000</td>\n",
       "      <td>54808.000000</td>\n",
       "    </tr>\n",
       "    <tr>\n",
       "      <th>mean</th>\n",
       "      <td>0.702379</td>\n",
       "      <td>1.253011</td>\n",
       "      <td>34.803915</td>\n",
       "      <td>3.304481</td>\n",
       "      <td>5.865512</td>\n",
       "      <td>0.351974</td>\n",
       "      <td>0.023172</td>\n",
       "      <td>63.386750</td>\n",
       "      <td>0.085170</td>\n",
       "      <td>0.097650</td>\n",
       "    </tr>\n",
       "    <tr>\n",
       "      <th>std</th>\n",
       "      <td>0.457216</td>\n",
       "      <td>0.609264</td>\n",
       "      <td>7.660169</td>\n",
       "      <td>1.214770</td>\n",
       "      <td>4.265094</td>\n",
       "      <td>0.477590</td>\n",
       "      <td>0.150450</td>\n",
       "      <td>13.371559</td>\n",
       "      <td>0.279137</td>\n",
       "      <td>0.296844</td>\n",
       "    </tr>\n",
       "    <tr>\n",
       "      <th>min</th>\n",
       "      <td>0.000000</td>\n",
       "      <td>1.000000</td>\n",
       "      <td>20.000000</td>\n",
       "      <td>1.000000</td>\n",
       "      <td>1.000000</td>\n",
       "      <td>0.000000</td>\n",
       "      <td>0.000000</td>\n",
       "      <td>39.000000</td>\n",
       "      <td>0.000000</td>\n",
       "      <td>0.000000</td>\n",
       "    </tr>\n",
       "    <tr>\n",
       "      <th>25%</th>\n",
       "      <td>0.000000</td>\n",
       "      <td>1.000000</td>\n",
       "      <td>29.000000</td>\n",
       "      <td>3.000000</td>\n",
       "      <td>3.000000</td>\n",
       "      <td>0.000000</td>\n",
       "      <td>0.000000</td>\n",
       "      <td>51.000000</td>\n",
       "      <td>0.000000</td>\n",
       "      <td>0.000000</td>\n",
       "    </tr>\n",
       "    <tr>\n",
       "      <th>50%</th>\n",
       "      <td>1.000000</td>\n",
       "      <td>1.000000</td>\n",
       "      <td>33.000000</td>\n",
       "      <td>3.000000</td>\n",
       "      <td>5.000000</td>\n",
       "      <td>0.000000</td>\n",
       "      <td>0.000000</td>\n",
       "      <td>60.000000</td>\n",
       "      <td>0.000000</td>\n",
       "      <td>0.000000</td>\n",
       "    </tr>\n",
       "    <tr>\n",
       "      <th>75%</th>\n",
       "      <td>1.000000</td>\n",
       "      <td>1.000000</td>\n",
       "      <td>39.000000</td>\n",
       "      <td>4.000000</td>\n",
       "      <td>7.000000</td>\n",
       "      <td>1.000000</td>\n",
       "      <td>0.000000</td>\n",
       "      <td>76.000000</td>\n",
       "      <td>0.000000</td>\n",
       "      <td>0.000000</td>\n",
       "    </tr>\n",
       "    <tr>\n",
       "      <th>max</th>\n",
       "      <td>1.000000</td>\n",
       "      <td>10.000000</td>\n",
       "      <td>60.000000</td>\n",
       "      <td>5.000000</td>\n",
       "      <td>37.000000</td>\n",
       "      <td>1.000000</td>\n",
       "      <td>1.000000</td>\n",
       "      <td>99.000000</td>\n",
       "      <td>1.000000</td>\n",
       "      <td>1.000000</td>\n",
       "    </tr>\n",
       "  </tbody>\n",
       "</table>\n",
       "</div>"
      ],
      "text/plain": [
       "             gender  no_of_trainings           age  previous_year_rating  \\\n",
       "count  54808.000000     54808.000000  54808.000000          54808.000000   \n",
       "mean       0.702379         1.253011     34.803915              3.304481   \n",
       "std        0.457216         0.609264      7.660169              1.214770   \n",
       "min        0.000000         1.000000     20.000000              1.000000   \n",
       "25%        0.000000         1.000000     29.000000              3.000000   \n",
       "50%        1.000000         1.000000     33.000000              3.000000   \n",
       "75%        1.000000         1.000000     39.000000              4.000000   \n",
       "max        1.000000        10.000000     60.000000              5.000000   \n",
       "\n",
       "       length_of_service  KPIs_met >80%   awards_won?  avg_training_score  \\\n",
       "count       54808.000000   54808.000000  54808.000000        54808.000000   \n",
       "mean            5.865512       0.351974      0.023172           63.386750   \n",
       "std             4.265094       0.477590      0.150450           13.371559   \n",
       "min             1.000000       0.000000      0.000000           39.000000   \n",
       "25%             3.000000       0.000000      0.000000           51.000000   \n",
       "50%             5.000000       0.000000      0.000000           60.000000   \n",
       "75%             7.000000       1.000000      0.000000           76.000000   \n",
       "max            37.000000       1.000000      1.000000           99.000000   \n",
       "\n",
       "        is_promoted  department_analytics  \n",
       "count  54808.000000          54808.000000  \n",
       "mean       0.085170              0.097650  \n",
       "std        0.279137              0.296844  \n",
       "min        0.000000              0.000000  \n",
       "25%        0.000000              0.000000  \n",
       "50%        0.000000              0.000000  \n",
       "75%        0.000000              0.000000  \n",
       "max        1.000000              1.000000  "
      ]
     },
     "execution_count": 4,
     "metadata": {},
     "output_type": "execute_result"
    }
   ],
   "source": [
    "train_df.describe().iloc[:, :10]"
   ]
  },
  {
   "cell_type": "code",
   "execution_count": 5,
   "metadata": {},
   "outputs": [],
   "source": [
    "from sklearn.preprocessing import StandardScaler\n",
    "scaler = StandardScaler()\n",
    "\n",
    "features_to_scale = ['age', 'length_of_service', 'avg_training_score', 'no_of_trainings', 'previous_year_rating', 'predicted_rating']\n",
    "features_out = []\n",
    "for i in features_to_scale:\n",
    "    train_df[i + '_sc'] = train_df[i]\n",
    "    test_df[i + '_sc'] = test_df[i]\n",
    "    features_out.append(i + '_sc')\n",
    "\n",
    "scaled_features = scaler.fit_transform(train_df.loc[:, features_to_scale])\n",
    "train_df[features_out] = scaled_features\n",
    "scaled_features = scaler.transform(test_df.loc[:, features_to_scale])\n",
    "test_df[features_out] = scaled_features"
   ]
  },
  {
   "cell_type": "code",
   "execution_count": 7,
   "metadata": {},
   "outputs": [
    {
     "data": {
      "text/plain": [
       "array(['gender', 'no_of_trainings', 'age', 'previous_year_rating',\n",
       "       'length_of_service', 'KPIs_met >80%', 'awards_won?',\n",
       "       'avg_training_score', 'department_analytics', 'department_finance',\n",
       "       'department_hr', 'department_legal', 'department_operations',\n",
       "       'department_procurement', 'department_r_and_d',\n",
       "       'department_sales_and_martketing', 'department_technology',\n",
       "       'region_1', 'region_10', 'region_11', 'region_12', 'region_13',\n",
       "       'region_14', 'region_15', 'region_16', 'region_17', 'region_18',\n",
       "       'region_19', 'region_2', 'region_20', 'region_21', 'region_22',\n",
       "       'region_23', 'region_24', 'region_25', 'region_26', 'region_27',\n",
       "       'region_28', 'region_29', 'region_3', 'region_30', 'region_31',\n",
       "       'region_32', 'region_33', 'region_34', 'region_4', 'region_5',\n",
       "       'region_6', 'region_7', 'region_8', 'region_9', \"Bachelor's\",\n",
       "       'Below Secondary', \"Master's & above\", 'Unknown', 'other',\n",
       "       'referred', 'sourcing', 'rating_missing', 'predicted_rating',\n",
       "       'age_sc', 'length_of_service_sc', 'avg_training_score_sc',\n",
       "       'no_of_trainings_sc', 'previous_year_rating_sc',\n",
       "       'predicted_rating_sc'], dtype=object)"
      ]
     },
     "execution_count": 7,
     "metadata": {},
     "output_type": "execute_result"
    }
   ],
   "source": [
    "test_df.columns.values"
   ]
  },
  {
   "cell_type": "code",
   "execution_count": null,
   "metadata": {},
   "outputs": [],
   "source": [
    "train_df.describe().iloc[:, 60:]"
   ]
  },
  {
   "cell_type": "code",
   "execution_count": null,
   "metadata": {},
   "outputs": [],
   "source": [
    "Y = train_df['is_promoted']\n",
    "X = train_df.drop(['is_promoted'], axis=1)\n",
    "# X = scaler.fit_transform(X)\n",
    "# newtest_df = scaler.transform(test_df)\n",
    "X_train, X_test, y_train, y_test = train_test_split(X, Y, test_size=0.2, random_state=42)"
   ]
  },
  {
   "cell_type": "code",
   "execution_count": null,
   "metadata": {},
   "outputs": [],
   "source": [
    "from sklearn.ensemble import RandomForestClassifier\n",
    "clf = RandomForestClassifier(max_depth=40, random_state=0, min_samples_split=10)\n",
    "clf.fit(X_train, y_train)\n",
    "print(f1_score(y_test, clf.predict(X_test)))"
   ]
  },
  {
   "cell_type": "code",
   "execution_count": null,
   "metadata": {
    "scrolled": true
   },
   "outputs": [],
   "source": [
    "# for i in [5, 10, 15, 20, 25, 30, 35, 40, 45, 50, 60]:\n",
    "#     for j in [2, 5, 10, 15]:\n",
    "#         clf = RandomForestClassifier(max_depth=i, random_state=0, min_samples_split=j)\n",
    "#         clf.fit(X_train, y_train)\n",
    "#         print(i, j, f1_score(y_test, clf.predict(X_test)))"
   ]
  },
  {
   "cell_type": "markdown",
   "metadata": {},
   "source": [
    "## New Features"
   ]
  },
  {
   "cell_type": "code",
   "execution_count": null,
   "metadata": {},
   "outputs": [],
   "source": [
    "train_df.age.plot.hist()"
   ]
  },
  {
   "cell_type": "code",
   "execution_count": 8,
   "metadata": {},
   "outputs": [],
   "source": [
    "def age_group(i):\n",
    "    if i <= 30:\n",
    "        return 1\n",
    "    elif i <= 40:\n",
    "        return 2\n",
    "    elif i <= 50:\n",
    "        return 3\n",
    "    else:\n",
    "        return 4\n",
    "    \n",
    "test_df['age_group'] = [age_group(i) for i in test_df.age]\n",
    "train_df['age_group'] = [age_group(i) for i in train_df.age]"
   ]
  },
  {
   "cell_type": "code",
   "execution_count": 9,
   "metadata": {
    "scrolled": true
   },
   "outputs": [],
   "source": [
    "def training_score_groups(i):\n",
    "    if i <= 45:\n",
    "        return 1\n",
    "    elif i <= 55:\n",
    "        return 2\n",
    "    elif i <= 65:\n",
    "        return 3\n",
    "    elif i <= 75:\n",
    "        return 4\n",
    "    elif i <= 85:\n",
    "        return 5\n",
    "    else:\n",
    "        return 6\n",
    "\n",
    "test_df['training_score_groups'] = [training_score_groups(i) for i in test_df['avg_training_score']]\n",
    "train_df['training_score_groups'] = [training_score_groups(i) for i in train_df['avg_training_score']]"
   ]
  },
  {
   "cell_type": "code",
   "execution_count": null,
   "metadata": {},
   "outputs": [],
   "source": [
    "train_df['avg_training_score'].hist(bins=20)"
   ]
  },
  {
   "cell_type": "code",
   "execution_count": null,
   "metadata": {},
   "outputs": [],
   "source": [
    "train_df['length_of_service'].hist(bins = 20)"
   ]
  },
  {
   "cell_type": "code",
   "execution_count": 10,
   "metadata": {},
   "outputs": [],
   "source": [
    "def length_of_service_groups(i):\n",
    "    if i <= 4:\n",
    "        return 1\n",
    "    elif i <= 8:\n",
    "        return 2\n",
    "    elif i <= 12:\n",
    "        return 3\n",
    "    elif i <= 16:\n",
    "        return 4\n",
    "    elif i <= 20:\n",
    "        return 5\n",
    "    else:\n",
    "        return 6\n",
    "    \n",
    "train_df['length_of_service_groups'] = [length_of_service_groups(i) for i in train_df['length_of_service']]\n",
    "test_df['length_of_service_groups'] = [length_of_service_groups(i) for i in test_df['length_of_service']]"
   ]
  },
  {
   "cell_type": "code",
   "execution_count": null,
   "metadata": {},
   "outputs": [],
   "source": [
    "Y = train_df['is_promoted']\n",
    "X = train_df.drop(['is_promoted'], axis=1)\n",
    "X = train_df.drop(['age', 'length_of_service', 'avg_training_score', 'no_of_trainings', 'previous_year_rating', 'predicted_rating'], axis = 1)\n",
    "# X = scaler.fit_transform(X)\n",
    "# newtest_df = scaler.transform(test_df)\n",
    "X_train, X_test, y_train, y_test = train_test_split(X, Y, test_size=0.2, random_state=36)"
   ]
  },
  {
   "cell_type": "code",
   "execution_count": null,
   "metadata": {},
   "outputs": [],
   "source": [
    "from sklearn.ensemble import RandomForestClassifier\n",
    "clf = RandomForestClassifier(max_depth=40, random_state=0, min_samples_split=10)\n",
    "clf.fit(X_train, y_train)\n",
    "print(f1_score(y_train, clf.predict(X_train)))\n",
    "print(f1_score(y_test, clf.predict(X_test)))"
   ]
  },
  {
   "cell_type": "code",
   "execution_count": null,
   "metadata": {},
   "outputs": [],
   "source": [
    "pd.Series(clf.predict(X_train)).value_counts()\n",
    "pd.Series(clf.predict(X_test)).value_counts()"
   ]
  },
  {
   "cell_type": "code",
   "execution_count": null,
   "metadata": {},
   "outputs": [],
   "source": [
    "y_test.value_counts()"
   ]
  },
  {
   "cell_type": "code",
   "execution_count": null,
   "metadata": {},
   "outputs": [],
   "source": [
    "Y = train_df['is_promoted']\n",
    "X = train_df.drop(['is_promoted', 'age', 'length_of_service', 'avg_training_score', 'no_of_trainings', 'previous_year_rating', 'predicted_rating'], axis = 1)\n",
    "X_test_new = test_df.drop(['age', 'length_of_service', 'avg_training_score', 'no_of_trainings', 'previous_year_rating', 'predicted_rating'], axis = 1)"
   ]
  },
  {
   "cell_type": "code",
   "execution_count": null,
   "metadata": {},
   "outputs": [],
   "source": [
    "X_test_new.columns.values"
   ]
  },
  {
   "cell_type": "code",
   "execution_count": null,
   "metadata": {},
   "outputs": [],
   "source": [
    "X.columns.values"
   ]
  },
  {
   "cell_type": "code",
   "execution_count": null,
   "metadata": {},
   "outputs": [],
   "source": [
    "from sklearn.ensemble import RandomForestClassifier\n",
    "clf = RandomForestClassifier(max_depth=40, random_state=0, min_samples_split=10)\n",
    "clf.fit(X, Y)\n",
    "print(f1_score(Y, clf.predict(X)))\n",
    "pred = clf.predict(X_test_new)"
   ]
  },
  {
   "cell_type": "code",
   "execution_count": null,
   "metadata": {},
   "outputs": [],
   "source": [
    "pred = pd.DataFrame(pred, index = X_test_new.index)"
   ]
  },
  {
   "cell_type": "code",
   "execution_count": null,
   "metadata": {},
   "outputs": [],
   "source": [
    "pred.columns = ['is_promoted']"
   ]
  },
  {
   "cell_type": "code",
   "execution_count": null,
   "metadata": {},
   "outputs": [],
   "source": [
    "pred.is_promoted.value_counts()"
   ]
  },
  {
   "cell_type": "code",
   "execution_count": null,
   "metadata": {},
   "outputs": [],
   "source": [
    "pred.to_csv('../output/sub_14_23-42.csv')"
   ]
  },
  {
   "cell_type": "code",
   "execution_count": 13,
   "metadata": {},
   "outputs": [
    {
     "name": "stdout",
     "output_type": "stream",
     "text": [
      "0.6190545880286843\n"
     ]
    }
   ],
   "source": [
    "Y = train_df['is_promoted']\n",
    "X = train_df.drop(['is_promoted'], axis = 1)\n",
    "from sklearn.ensemble import RandomForestClassifier\n",
    "clf = RandomForestClassifier(max_depth=40, random_state=0, min_samples_split=10)\n",
    "clf.fit(X, Y)\n",
    "print(f1_score(Y, clf.predict(X)))\n",
    "pred = clf.predict(test_df)\n",
    "pred = pd.DataFrame(pred, index = test_df.index)\n",
    "pred.columns = ['is_promoted']\n",
    "pred.to_csv('../output/sub_14_23-53.csv')"
   ]
  },
  {
   "cell_type": "code",
   "execution_count": null,
   "metadata": {},
   "outputs": [],
   "source": [
    "X.columns.values"
   ]
  },
  {
   "cell_type": "code",
   "execution_count": null,
   "metadata": {},
   "outputs": [],
   "source": [
    "X_test.columns.values"
   ]
  },
  {
   "cell_type": "code",
   "execution_count": 18,
   "metadata": {},
   "outputs": [
    {
     "name": "stdout",
     "output_type": "stream",
     "text": [
      "2 0.939122548463893\n",
      "5 0.939122548463893\n",
      "6 0.939122548463893\n",
      "8 0.939122548463893\n",
      "10 0.939122548463893\n",
      "15 0.939122548463893\n",
      "20 0.939122548463893\n"
     ]
    }
   ],
   "source": [
    "Y = train_df['is_promoted']\n",
    "X = train_df.drop(['is_promoted'], axis = 1)\n",
    "from sklearn.ensemble import RandomForestClassifier\n",
    "for i in [2, 5, 6, 8, 10, 15, 20]:\n",
    "    clf = RandomForestClassifier(max_depth=50, random_state=0, min_samples_split=2)\n",
    "    clf.fit(X, Y)\n",
    "    print(i, f1_score(Y, clf.predict(X)))\n",
    "#     pred = clf.predict(test_df)\n",
    "#     pred = pd.DataFrame(pred, index = test_df.index)\n",
    "#     pred.columns = ['is_promoted']\n",
    "#     pred.to_csv('../output/sub_14_23-53.csv')"
   ]
  },
  {
   "cell_type": "code",
   "execution_count": 21,
   "metadata": {},
   "outputs": [
    {
     "name": "stdout",
     "output_type": "stream",
     "text": [
      "20 0.6247630158961645\n"
     ]
    }
   ],
   "source": [
    "Y = train_df['is_promoted']\n",
    "X = train_df.drop(['is_promoted'], axis = 1)\n",
    "from sklearn.ensemble import RandomForestClassifier\n",
    "clf = RandomForestClassifier(max_depth=50, random_state=0, min_samples_split=10)\n",
    "clf.fit(X, Y)\n",
    "print(i, f1_score(Y, clf.predict(X)))\n",
    "pred = clf.predict(test_df)\n",
    "pred = pd.DataFrame(pred, index = test_df.index)\n",
    "pred.columns = ['is_promoted']\n",
    "pred.to_csv('../output/sub_14_23-581.csv')"
   ]
  },
  {
   "cell_type": "code",
   "execution_count": 22,
   "metadata": {},
   "outputs": [
    {
     "name": "stdout",
     "output_type": "stream",
     "text": [
      "20 0.4551429510351626\n"
     ]
    },
    {
     "name": "stderr",
     "output_type": "stream",
     "text": [
      "/home/manikanth/Desktop/practice/analyticsvidhya/wns-analytics-2018/venv/lib/python3.6/site-packages/sklearn/preprocessing/label.py:151: DeprecationWarning: The truth value of an empty array is ambiguous. Returning False, but in future this will result in an error. Use `array.size > 0` to check that an array is not empty.\n",
      "  if diff:\n",
      "/home/manikanth/Desktop/practice/analyticsvidhya/wns-analytics-2018/venv/lib/python3.6/site-packages/sklearn/preprocessing/label.py:151: DeprecationWarning: The truth value of an empty array is ambiguous. Returning False, but in future this will result in an error. Use `array.size > 0` to check that an array is not empty.\n",
      "  if diff:\n"
     ]
    }
   ],
   "source": [
    "Y = train_df['is_promoted']\n",
    "X = train_df.drop(['is_promoted'], axis = 1)\n",
    "from xgboost import XGBClassifier\n",
    "clf = XGBClassifier()\n",
    "clf.fit(X, Y)\n",
    "print(i, f1_score(Y, clf.predict(X)))\n",
    "pred = clf.predict(test_df)\n",
    "pred = pd.DataFrame(pred, index = test_df.index)\n",
    "pred.columns = ['is_promoted']\n",
    "pred.to_csv('../output/sub_14_23-59.csv')"
   ]
  },
  {
   "cell_type": "code",
   "execution_count": null,
   "metadata": {},
   "outputs": [],
   "source": []
  },
  {
   "cell_type": "code",
   "execution_count": null,
   "metadata": {},
   "outputs": [],
   "source": []
  },
  {
   "cell_type": "markdown",
   "metadata": {},
   "source": [
    "## XGBOOST "
   ]
  },
  {
   "cell_type": "code",
   "execution_count": 23,
   "metadata": {},
   "outputs": [
    {
     "name": "stderr",
     "output_type": "stream",
     "text": [
      "/home/manikanth/Desktop/practice/analyticsvidhya/wns-analytics-2018/venv/lib/python3.6/site-packages/sklearn/cross_validation.py:41: DeprecationWarning: This module was deprecated in version 0.18 in favor of the model_selection module into which all the refactored classes and functions are moved. Also note that the interface of the new CV iterators are different from that of this module. This module will be removed in 0.20.\n",
      "  \"This module will be removed in 0.20.\", DeprecationWarning)\n",
      "/home/manikanth/Desktop/practice/analyticsvidhya/wns-analytics-2018/venv/lib/python3.6/site-packages/sklearn/grid_search.py:42: DeprecationWarning: This module was deprecated in version 0.18 in favor of the model_selection module into which all the refactored classes and functions are moved. This module will be removed in 0.20.\n",
      "  DeprecationWarning)\n"
     ]
    }
   ],
   "source": [
    "import xgboost as xgb\n",
    "from xgboost.sklearn import XGBClassifier\n",
    "from sklearn import cross_validation, metrics   #Additional scklearn functions\n",
    "from sklearn.grid_search import GridSearchCV   #Perforing grid search\n",
    "\n",
    "import matplotlib.pylab as plt\n",
    "%matplotlib inline\n",
    "from matplotlib.pylab import rcParams\n",
    "rcParams['figure.figsize'] = 12, 4"
   ]
  },
  {
   "cell_type": "code",
   "execution_count": 43,
   "metadata": {},
   "outputs": [],
   "source": [
    "def modelfit(alg, dtrain, predictors, target, useTrainCV=True, cv_folds=5, early_stopping_rounds=50):\n",
    "    if useTrainCV:\n",
    "        xgb_param = alg.get_xgb_params()\n",
    "        xgtrain = xgb.DMatrix(dtrain[predictors].values, label=dtrain[target].values)\n",
    "        cvresult = xgb.cv(xgb_param, xgtrain, num_boost_round=alg.get_params()['n_estimators'], \n",
    "                          nfold=cv_folds, metrics='auc', early_stopping_rounds=early_stopping_rounds, \n",
    "                          verbose_eval=True)\n",
    "        alg.set_params(n_estimators=cvresult.shape[0])\n",
    "    \n",
    "    #Fit the algorithm on the data\n",
    "    alg.fit(dtrain[predictors], dtrain[target],eval_metric='auc')\n",
    "        \n",
    "    #Predict training set:\n",
    "    dtrain_predictions = alg.predict(dtrain[predictors])\n",
    "    dtrain_predprob = alg.predict_proba(dtrain[predictors])[:,1]\n",
    "        \n",
    "    #Print model report:\n",
    "    print(\"\\nModel Report\")\n",
    "    print(\"Accuracy : %.4g\" % metrics.accuracy_score(dtrain[target].values, dtrain_predictions))\n",
    "    print(\"AUC Score (Train): %f\" % metrics.roc_auc_score(dtrain[target], dtrain_predprob))\n",
    "                    \n",
    "    feat_imp = pd.Series(alg.booster().get_fscore()).sort_values(ascending=False)\n",
    "    feat_imp.plot(kind='bar', title='Feature Importances')\n",
    "    plt.ylabel('Feature Importance Score')"
   ]
  },
  {
   "cell_type": "code",
   "execution_count": 44,
   "metadata": {},
   "outputs": [
    {
     "name": "stdout",
     "output_type": "stream",
     "text": [
      "[0]\ttrain-auc:0.766605+0.00147147\ttest-auc:0.766505+0.00699217\n",
      "[1]\ttrain-auc:0.767024+0.00163004\ttest-auc:0.766943+0.00680031\n",
      "[2]\ttrain-auc:0.767228+0.00177074\ttest-auc:0.767314+0.00657873\n",
      "[3]\ttrain-auc:0.767494+0.00207293\ttest-auc:0.767557+0.0061852\n",
      "[4]\ttrain-auc:0.767818+0.001939\ttest-auc:0.767842+0.00632773\n",
      "[5]\ttrain-auc:0.768134+0.00172498\ttest-auc:0.768108+0.00642183\n",
      "[6]\ttrain-auc:0.769388+0.00227879\ttest-auc:0.769109+0.00663466\n",
      "[7]\ttrain-auc:0.77774+0.0113318\ttest-auc:0.77767+0.0161731\n",
      "[8]\ttrain-auc:0.783072+0.0107364\ttest-auc:0.783394+0.0117274\n",
      "[9]\ttrain-auc:0.786418+0.00826824\ttest-auc:0.785648+0.0113672\n",
      "[10]\ttrain-auc:0.787467+0.00788814\ttest-auc:0.786729+0.0105488\n",
      "[11]\ttrain-auc:0.789038+0.00700605\ttest-auc:0.788582+0.0108453\n",
      "[12]\ttrain-auc:0.795214+0.00713531\ttest-auc:0.795421+0.0110242\n",
      "[13]\ttrain-auc:0.802882+0.00591797\ttest-auc:0.803765+0.0100972\n",
      "[14]\ttrain-auc:0.807066+0.00241545\ttest-auc:0.807336+0.00463837\n",
      "[15]\ttrain-auc:0.806754+0.00229179\ttest-auc:0.80728+0.00467752\n",
      "[16]\ttrain-auc:0.809265+0.00493052\ttest-auc:0.809252+0.00363297\n",
      "[17]\ttrain-auc:0.810399+0.0045252\ttest-auc:0.809979+0.00405608\n",
      "[18]\ttrain-auc:0.811058+0.0046142\ttest-auc:0.810666+0.00446912\n",
      "[19]\ttrain-auc:0.813007+0.00591174\ttest-auc:0.811727+0.00437978\n",
      "[20]\ttrain-auc:0.817377+0.00605726\ttest-auc:0.815332+0.00477887\n",
      "[21]\ttrain-auc:0.820826+0.00594736\ttest-auc:0.818728+0.0081948\n",
      "[22]\ttrain-auc:0.822192+0.00601037\ttest-auc:0.819909+0.00876245\n",
      "[23]\ttrain-auc:0.830785+0.0095585\ttest-auc:0.827137+0.0142328\n",
      "[24]\ttrain-auc:0.843874+0.0135756\ttest-auc:0.841014+0.0104154\n",
      "[25]\ttrain-auc:0.855889+0.0127636\ttest-auc:0.85284+0.00809602\n",
      "[26]\ttrain-auc:0.861153+0.0124756\ttest-auc:0.857889+0.0111144\n",
      "[27]\ttrain-auc:0.86165+0.0123716\ttest-auc:0.858192+0.0111045\n",
      "[28]\ttrain-auc:0.863373+0.0128881\ttest-auc:0.859392+0.0115215\n",
      "[29]\ttrain-auc:0.864339+0.0135154\ttest-auc:0.860561+0.012101\n",
      "[30]\ttrain-auc:0.865315+0.0130497\ttest-auc:0.861619+0.0117534\n",
      "[31]\ttrain-auc:0.866702+0.0130755\ttest-auc:0.862841+0.0117617\n",
      "[32]\ttrain-auc:0.867609+0.0123403\ttest-auc:0.864191+0.0111481\n",
      "[33]\ttrain-auc:0.868254+0.0120829\ttest-auc:0.864587+0.0108188\n",
      "[34]\ttrain-auc:0.869689+0.0112497\ttest-auc:0.865609+0.0101275\n",
      "[35]\ttrain-auc:0.870552+0.0111653\ttest-auc:0.866605+0.0102924\n",
      "[36]\ttrain-auc:0.871782+0.0103901\ttest-auc:0.867036+0.010375\n",
      "[37]\ttrain-auc:0.872206+0.00988978\ttest-auc:0.867314+0.00945579\n",
      "[38]\ttrain-auc:0.872522+0.00962972\ttest-auc:0.867719+0.00928687\n",
      "[39]\ttrain-auc:0.873135+0.00959134\ttest-auc:0.86815+0.00926011\n",
      "[40]\ttrain-auc:0.873616+0.00956085\ttest-auc:0.868351+0.00896374\n",
      "[41]\ttrain-auc:0.873703+0.00958973\ttest-auc:0.868421+0.0086522\n",
      "[42]\ttrain-auc:0.875745+0.00875694\ttest-auc:0.870683+0.00679266\n",
      "[43]\ttrain-auc:0.876379+0.00881907\ttest-auc:0.871455+0.00700691\n",
      "[44]\ttrain-auc:0.87697+0.00903481\ttest-auc:0.871769+0.00757626\n",
      "[45]\ttrain-auc:0.877804+0.00899545\ttest-auc:0.872352+0.00744148\n",
      "[46]\ttrain-auc:0.878758+0.00892991\ttest-auc:0.873059+0.00791962\n",
      "[47]\ttrain-auc:0.878879+0.00918617\ttest-auc:0.873285+0.00802167\n",
      "[48]\ttrain-auc:0.881044+0.00677017\ttest-auc:0.87545+0.0056156\n",
      "[49]\ttrain-auc:0.881953+0.00649816\ttest-auc:0.876187+0.00612101\n",
      "[50]\ttrain-auc:0.882665+0.00612163\ttest-auc:0.87681+0.0056617\n",
      "[51]\ttrain-auc:0.88406+0.006213\ttest-auc:0.878321+0.00518086\n",
      "[52]\ttrain-auc:0.886826+0.00555989\ttest-auc:0.880642+0.00612927\n",
      "[53]\ttrain-auc:0.887522+0.00582426\ttest-auc:0.881224+0.00647769\n",
      "[54]\ttrain-auc:0.888595+0.00573664\ttest-auc:0.882221+0.00628064\n",
      "[55]\ttrain-auc:0.889077+0.00558357\ttest-auc:0.882737+0.00598443\n",
      "[56]\ttrain-auc:0.891333+0.00287782\ttest-auc:0.884853+0.00475611\n",
      "[57]\ttrain-auc:0.89325+0.00237707\ttest-auc:0.886367+0.00481897\n",
      "[58]\ttrain-auc:0.895533+0.00081947\ttest-auc:0.888838+0.00398903\n",
      "[59]\ttrain-auc:0.896327+0.00106263\ttest-auc:0.889724+0.00401834\n",
      "[60]\ttrain-auc:0.897149+0.000929799\ttest-auc:0.890463+0.00395144\n",
      "[61]\ttrain-auc:0.897473+0.000960791\ttest-auc:0.890636+0.00392541\n",
      "[62]\ttrain-auc:0.898036+0.000884455\ttest-auc:0.891122+0.00390247\n",
      "[63]\ttrain-auc:0.89844+0.00093139\ttest-auc:0.891537+0.00369102\n",
      "[64]\ttrain-auc:0.8989+0.000715439\ttest-auc:0.892009+0.00383019\n",
      "[65]\ttrain-auc:0.899216+0.00090481\ttest-auc:0.892262+0.00358567\n",
      "[66]\ttrain-auc:0.899739+0.00117421\ttest-auc:0.892691+0.00362217\n",
      "[67]\ttrain-auc:0.900047+0.00113671\ttest-auc:0.893043+0.00346359\n",
      "[68]\ttrain-auc:0.900417+0.00114538\ttest-auc:0.893361+0.0035265\n",
      "[69]\ttrain-auc:0.900701+0.00121095\ttest-auc:0.893638+0.00349203\n",
      "[70]\ttrain-auc:0.901078+0.00109953\ttest-auc:0.894028+0.00348322\n",
      "[71]\ttrain-auc:0.901443+0.00118262\ttest-auc:0.894233+0.00333366\n",
      "[72]\ttrain-auc:0.901838+0.00121111\ttest-auc:0.894545+0.00317202\n",
      "[73]\ttrain-auc:0.902167+0.00104635\ttest-auc:0.894804+0.00309498\n",
      "[74]\ttrain-auc:0.902494+0.0010313\ttest-auc:0.895039+0.00310959\n",
      "[75]\ttrain-auc:0.902731+0.00101577\ttest-auc:0.895171+0.00311003\n",
      "[76]\ttrain-auc:0.903116+0.000897283\ttest-auc:0.895372+0.00305948\n",
      "[77]\ttrain-auc:0.903342+0.000870912\ttest-auc:0.895489+0.00299015\n",
      "[78]\ttrain-auc:0.903722+0.000839692\ttest-auc:0.895807+0.00272305\n",
      "[79]\ttrain-auc:0.904071+0.000659584\ttest-auc:0.896047+0.00273118\n",
      "[80]\ttrain-auc:0.904367+0.000647952\ttest-auc:0.896288+0.0028127\n",
      "[81]\ttrain-auc:0.904698+0.000697397\ttest-auc:0.896482+0.0029251\n",
      "[82]\ttrain-auc:0.905033+0.000670565\ttest-auc:0.896742+0.00313063\n",
      "[83]\ttrain-auc:0.90557+0.000764282\ttest-auc:0.897152+0.00295526\n",
      "[84]\ttrain-auc:0.905807+0.000822039\ttest-auc:0.897317+0.00297791\n",
      "[85]\ttrain-auc:0.9061+0.000800755\ttest-auc:0.897512+0.0032078\n",
      "[86]\ttrain-auc:0.906246+0.000874765\ttest-auc:0.897597+0.00331634\n",
      "[87]\ttrain-auc:0.9065+0.00102942\ttest-auc:0.89782+0.00323611\n",
      "[88]\ttrain-auc:0.906739+0.000989913\ttest-auc:0.89798+0.00316368\n",
      "[89]\ttrain-auc:0.907011+0.000965818\ttest-auc:0.89821+0.00325858\n",
      "[90]\ttrain-auc:0.907187+0.000963601\ttest-auc:0.898291+0.00327184\n",
      "[91]\ttrain-auc:0.907443+0.000905132\ttest-auc:0.898535+0.00330734\n",
      "[92]\ttrain-auc:0.907675+0.000814133\ttest-auc:0.898717+0.00337931\n",
      "[93]\ttrain-auc:0.90788+0.000829786\ttest-auc:0.898844+0.00337326\n",
      "[94]\ttrain-auc:0.908036+0.000783012\ttest-auc:0.89893+0.00351855\n",
      "[95]\ttrain-auc:0.908221+0.000886727\ttest-auc:0.89903+0.00362598\n",
      "[96]\ttrain-auc:0.908403+0.000810794\ttest-auc:0.899111+0.003682\n",
      "[97]\ttrain-auc:0.908688+0.000835296\ttest-auc:0.89932+0.00375528\n",
      "[98]\ttrain-auc:0.908816+0.000850869\ttest-auc:0.899364+0.00373554\n",
      "[99]\ttrain-auc:0.909022+0.000843636\ttest-auc:0.899545+0.00377028\n",
      "[100]\ttrain-auc:0.909246+0.00077246\ttest-auc:0.899655+0.00375763\n",
      "[101]\ttrain-auc:0.909487+0.000861921\ttest-auc:0.89984+0.00373548\n",
      "[102]\ttrain-auc:0.90968+0.000885896\ttest-auc:0.899969+0.00369332\n",
      "[103]\ttrain-auc:0.909806+0.000870234\ttest-auc:0.900026+0.0036212\n",
      "[104]\ttrain-auc:0.910088+0.000778902\ttest-auc:0.900247+0.0034814\n",
      "[105]\ttrain-auc:0.910278+0.000795731\ttest-auc:0.900364+0.00344583\n",
      "[106]\ttrain-auc:0.91046+0.000751689\ttest-auc:0.900538+0.00342038\n",
      "[107]\ttrain-auc:0.910743+0.000878811\ttest-auc:0.900653+0.003457\n",
      "[108]\ttrain-auc:0.911047+0.00105696\ttest-auc:0.900818+0.00348748\n",
      "[109]\ttrain-auc:0.911325+0.00104135\ttest-auc:0.900992+0.00356971\n",
      "[110]\ttrain-auc:0.911535+0.00107774\ttest-auc:0.901045+0.00357444\n",
      "[111]\ttrain-auc:0.911744+0.00115158\ttest-auc:0.901274+0.00356361\n",
      "[112]\ttrain-auc:0.911947+0.00113191\ttest-auc:0.901415+0.00359492\n",
      "[113]\ttrain-auc:0.91213+0.00110622\ttest-auc:0.901463+0.00355285\n",
      "[114]\ttrain-auc:0.912282+0.00110913\ttest-auc:0.90151+0.00354782\n",
      "[115]\ttrain-auc:0.912567+0.0009844\ttest-auc:0.901634+0.00350554\n",
      "[116]\ttrain-auc:0.912793+0.00089648\ttest-auc:0.901803+0.00344897\n",
      "[117]\ttrain-auc:0.913026+0.000977104\ttest-auc:0.902052+0.00336743\n",
      "[118]\ttrain-auc:0.913153+0.00097999\ttest-auc:0.902138+0.00337368\n",
      "[119]\ttrain-auc:0.913361+0.00086149\ttest-auc:0.902278+0.00334947\n",
      "[120]\ttrain-auc:0.913489+0.000920364\ttest-auc:0.902398+0.00335856\n",
      "[121]\ttrain-auc:0.913705+0.000987879\ttest-auc:0.902522+0.00341717\n",
      "[122]\ttrain-auc:0.913839+0.00102519\ttest-auc:0.902561+0.00344514\n",
      "[123]\ttrain-auc:0.913951+0.000987792\ttest-auc:0.902591+0.00349151\n",
      "[124]\ttrain-auc:0.91406+0.000985257\ttest-auc:0.902687+0.00348923\n",
      "[125]\ttrain-auc:0.914451+0.00106493\ttest-auc:0.903007+0.00341491\n",
      "[126]\ttrain-auc:0.914656+0.00100873\ttest-auc:0.903113+0.00337481\n",
      "[127]\ttrain-auc:0.914825+0.00104788\ttest-auc:0.903216+0.00337457\n",
      "[128]\ttrain-auc:0.915004+0.00109461\ttest-auc:0.903326+0.00336097\n"
     ]
    },
    {
     "name": "stdout",
     "output_type": "stream",
     "text": [
      "[129]\ttrain-auc:0.915185+0.00104101\ttest-auc:0.903372+0.00339803\n",
      "[130]\ttrain-auc:0.915375+0.00105293\ttest-auc:0.903451+0.00334625\n",
      "[131]\ttrain-auc:0.915514+0.00107081\ttest-auc:0.903574+0.00328984\n",
      "[132]\ttrain-auc:0.915735+0.00100685\ttest-auc:0.903763+0.00315769\n",
      "[133]\ttrain-auc:0.915935+0.000952487\ttest-auc:0.903998+0.00319319\n",
      "[134]\ttrain-auc:0.916141+0.000810874\ttest-auc:0.904133+0.00307314\n",
      "[135]\ttrain-auc:0.916368+0.000853044\ttest-auc:0.904303+0.002987\n",
      "[136]\ttrain-auc:0.916513+0.000831541\ttest-auc:0.90437+0.00302686\n",
      "[137]\ttrain-auc:0.916735+0.000841694\ttest-auc:0.90448+0.00300884\n",
      "[138]\ttrain-auc:0.916846+0.000881228\ttest-auc:0.904518+0.00302767\n",
      "[139]\ttrain-auc:0.916991+0.00089549\ttest-auc:0.904539+0.00300816\n",
      "[140]\ttrain-auc:0.917108+0.00088438\ttest-auc:0.904577+0.00296658\n",
      "[141]\ttrain-auc:0.917294+0.000803976\ttest-auc:0.904749+0.00305884\n",
      "[142]\ttrain-auc:0.917498+0.000876093\ttest-auc:0.904938+0.00298622\n",
      "[143]\ttrain-auc:0.917577+0.000876324\ttest-auc:0.904978+0.00299872\n",
      "[144]\ttrain-auc:0.917694+0.000899525\ttest-auc:0.905091+0.0030071\n",
      "[145]\ttrain-auc:0.917911+0.000915564\ttest-auc:0.905235+0.00298718\n",
      "[146]\ttrain-auc:0.918036+0.000893335\ttest-auc:0.905306+0.00300567\n",
      "[147]\ttrain-auc:0.918127+0.000889592\ttest-auc:0.905374+0.00305979\n",
      "[148]\ttrain-auc:0.918256+0.000895965\ttest-auc:0.905492+0.00300901\n",
      "[149]\ttrain-auc:0.918355+0.000877087\ttest-auc:0.905524+0.00299095\n",
      "[150]\ttrain-auc:0.918519+0.000887431\ttest-auc:0.905694+0.00303163\n",
      "[151]\ttrain-auc:0.918627+0.00090943\ttest-auc:0.905771+0.00303359\n",
      "[152]\ttrain-auc:0.91875+0.000910873\ttest-auc:0.905825+0.00293951\n",
      "[153]\ttrain-auc:0.918927+0.000970328\ttest-auc:0.905896+0.00294242\n",
      "[154]\ttrain-auc:0.919015+0.000962116\ttest-auc:0.905909+0.00296923\n",
      "[155]\ttrain-auc:0.919166+0.000964991\ttest-auc:0.905929+0.00293748\n",
      "[156]\ttrain-auc:0.919294+0.000916389\ttest-auc:0.905956+0.00289657\n",
      "[157]\ttrain-auc:0.919392+0.000920677\ttest-auc:0.905986+0.00290391\n",
      "[158]\ttrain-auc:0.919478+0.000940812\ttest-auc:0.906021+0.00289497\n",
      "[159]\ttrain-auc:0.919625+0.000967111\ttest-auc:0.906166+0.00293605\n",
      "[160]\ttrain-auc:0.919686+0.00101339\ttest-auc:0.906114+0.002952\n",
      "[161]\ttrain-auc:0.919807+0.0010272\ttest-auc:0.906247+0.00292161\n",
      "[162]\ttrain-auc:0.919916+0.000995642\ttest-auc:0.906281+0.00292987\n",
      "[163]\ttrain-auc:0.92003+0.000956519\ttest-auc:0.906339+0.00293769\n",
      "[164]\ttrain-auc:0.920097+0.000952764\ttest-auc:0.90639+0.00292494\n",
      "[165]\ttrain-auc:0.920177+0.000986659\ttest-auc:0.906385+0.00291067\n",
      "[166]\ttrain-auc:0.920305+0.00103057\ttest-auc:0.906443+0.00289001\n",
      "[167]\ttrain-auc:0.920419+0.000980568\ttest-auc:0.906503+0.00289256\n",
      "[168]\ttrain-auc:0.920517+0.00099304\ttest-auc:0.906571+0.00294336\n",
      "[169]\ttrain-auc:0.920648+0.000979417\ttest-auc:0.906613+0.00295358\n",
      "[170]\ttrain-auc:0.920743+0.00101968\ttest-auc:0.906614+0.0029759\n",
      "[171]\ttrain-auc:0.920974+0.00101519\ttest-auc:0.906739+0.00287211\n",
      "[172]\ttrain-auc:0.921134+0.00103792\ttest-auc:0.906891+0.00282579\n",
      "[173]\ttrain-auc:0.921201+0.00100033\ttest-auc:0.906907+0.00288833\n",
      "[174]\ttrain-auc:0.921311+0.000995533\ttest-auc:0.906945+0.00280862\n",
      "[175]\ttrain-auc:0.921404+0.000985897\ttest-auc:0.907007+0.0028433\n",
      "[176]\ttrain-auc:0.921492+0.000973699\ttest-auc:0.90703+0.00282377\n",
      "[177]\ttrain-auc:0.92163+0.000980906\ttest-auc:0.907033+0.00283611\n",
      "[178]\ttrain-auc:0.921751+0.000983905\ttest-auc:0.90712+0.00283439\n",
      "[179]\ttrain-auc:0.921847+0.000999163\ttest-auc:0.907198+0.0028348\n",
      "[180]\ttrain-auc:0.921973+0.000962213\ttest-auc:0.907215+0.00288588\n",
      "[181]\ttrain-auc:0.9221+0.000958219\ttest-auc:0.907317+0.00284901\n",
      "[182]\ttrain-auc:0.922187+0.000982453\ttest-auc:0.907389+0.00286693\n",
      "[183]\ttrain-auc:0.922245+0.00100678\ttest-auc:0.907415+0.00285065\n",
      "[184]\ttrain-auc:0.922327+0.00102928\ttest-auc:0.907427+0.00285147\n",
      "[185]\ttrain-auc:0.92241+0.00101429\ttest-auc:0.907456+0.00291711\n",
      "[186]\ttrain-auc:0.922465+0.0010315\ttest-auc:0.907482+0.00291777\n",
      "[187]\ttrain-auc:0.922529+0.00105013\ttest-auc:0.90746+0.00291547\n",
      "[188]\ttrain-auc:0.922643+0.00102854\ttest-auc:0.907521+0.00286847\n",
      "[189]\ttrain-auc:0.922774+0.00106196\ttest-auc:0.907563+0.0028375\n",
      "[190]\ttrain-auc:0.922852+0.00107433\ttest-auc:0.907551+0.00287655\n",
      "[191]\ttrain-auc:0.922955+0.0010994\ttest-auc:0.907563+0.00289786\n",
      "[192]\ttrain-auc:0.923032+0.00114074\ttest-auc:0.907563+0.00288196\n",
      "[193]\ttrain-auc:0.923104+0.00113213\ttest-auc:0.907554+0.00286977\n",
      "[194]\ttrain-auc:0.923178+0.00112087\ttest-auc:0.907548+0.00289304\n",
      "[195]\ttrain-auc:0.923245+0.00115085\ttest-auc:0.907567+0.00289343\n",
      "[196]\ttrain-auc:0.923334+0.00115809\ttest-auc:0.907593+0.00291293\n",
      "[197]\ttrain-auc:0.923431+0.00119408\ttest-auc:0.907553+0.00288951\n",
      "[198]\ttrain-auc:0.923484+0.00118719\ttest-auc:0.907585+0.00289198\n",
      "[199]\ttrain-auc:0.923561+0.00117687\ttest-auc:0.907618+0.00285586\n",
      "[200]\ttrain-auc:0.92362+0.00117864\ttest-auc:0.907656+0.00283881\n",
      "[201]\ttrain-auc:0.923674+0.00115586\ttest-auc:0.907679+0.00282156\n",
      "[202]\ttrain-auc:0.923796+0.0012049\ttest-auc:0.907686+0.00278573\n",
      "[203]\ttrain-auc:0.923895+0.00120814\ttest-auc:0.907747+0.00285221\n",
      "[204]\ttrain-auc:0.923963+0.00119027\ttest-auc:0.907744+0.00282432\n",
      "[205]\ttrain-auc:0.92402+0.0011967\ttest-auc:0.907715+0.00283235\n",
      "[206]\ttrain-auc:0.924078+0.0012069\ttest-auc:0.907717+0.00284276\n",
      "[207]\ttrain-auc:0.924149+0.00123914\ttest-auc:0.907766+0.00282802\n",
      "[208]\ttrain-auc:0.924256+0.00123134\ttest-auc:0.907787+0.00280082\n",
      "[209]\ttrain-auc:0.924297+0.0012516\ttest-auc:0.907754+0.00279352\n",
      "[210]\ttrain-auc:0.92438+0.0012334\ttest-auc:0.907767+0.00279623\n",
      "[211]\ttrain-auc:0.924461+0.00123956\ttest-auc:0.907802+0.00280609\n",
      "[212]\ttrain-auc:0.924602+0.00121058\ttest-auc:0.907797+0.00283327\n",
      "[213]\ttrain-auc:0.924647+0.00121301\ttest-auc:0.90783+0.00283145\n",
      "[214]\ttrain-auc:0.924713+0.00119664\ttest-auc:0.907819+0.00281787\n",
      "[215]\ttrain-auc:0.924847+0.00120156\ttest-auc:0.907844+0.00287314\n",
      "[216]\ttrain-auc:0.924927+0.00117478\ttest-auc:0.907929+0.00291273\n",
      "[217]\ttrain-auc:0.924987+0.00117767\ttest-auc:0.907989+0.00290534\n",
      "[218]\ttrain-auc:0.92507+0.00118258\ttest-auc:0.907987+0.00291123\n",
      "[219]\ttrain-auc:0.925148+0.00123243\ttest-auc:0.908003+0.00290685\n",
      "[220]\ttrain-auc:0.925219+0.00124084\ttest-auc:0.908014+0.00287937\n",
      "[221]\ttrain-auc:0.925294+0.00124071\ttest-auc:0.908033+0.00290159\n",
      "[222]\ttrain-auc:0.925402+0.00123784\ttest-auc:0.908068+0.00295036\n",
      "[223]\ttrain-auc:0.92548+0.00121657\ttest-auc:0.908054+0.00297192\n",
      "[224]\ttrain-auc:0.925543+0.00119707\ttest-auc:0.908052+0.0029911\n",
      "[225]\ttrain-auc:0.925632+0.00121997\ttest-auc:0.908121+0.00296089\n",
      "[226]\ttrain-auc:0.925692+0.00123482\ttest-auc:0.908087+0.00294955\n",
      "[227]\ttrain-auc:0.925764+0.00122972\ttest-auc:0.908074+0.00292371\n",
      "[228]\ttrain-auc:0.925867+0.00116007\ttest-auc:0.90812+0.00289497\n",
      "[229]\ttrain-auc:0.925937+0.00118665\ttest-auc:0.908143+0.00289584\n",
      "[230]\ttrain-auc:0.926042+0.00118872\ttest-auc:0.908152+0.00295973\n",
      "[231]\ttrain-auc:0.926157+0.00119835\ttest-auc:0.908149+0.00304635\n",
      "[232]\ttrain-auc:0.92627+0.00110744\ttest-auc:0.908207+0.00319947\n",
      "[233]\ttrain-auc:0.926351+0.0011139\ttest-auc:0.908239+0.0032232\n",
      "[234]\ttrain-auc:0.926413+0.00110426\ttest-auc:0.908263+0.00314517\n",
      "[235]\ttrain-auc:0.926458+0.00113098\ttest-auc:0.908223+0.00314768\n",
      "[236]\ttrain-auc:0.926542+0.00112829\ttest-auc:0.908301+0.0031808\n",
      "[237]\ttrain-auc:0.926625+0.00109469\ttest-auc:0.908338+0.00321745\n",
      "[238]\ttrain-auc:0.926694+0.00109255\ttest-auc:0.908387+0.00323741\n",
      "[239]\ttrain-auc:0.926744+0.00108728\ttest-auc:0.908446+0.00325404\n",
      "[240]\ttrain-auc:0.926821+0.00108475\ttest-auc:0.908501+0.00327856\n",
      "[241]\ttrain-auc:0.926875+0.00107383\ttest-auc:0.90848+0.00325467\n",
      "[242]\ttrain-auc:0.926941+0.0010615\ttest-auc:0.908479+0.00328088\n",
      "[243]\ttrain-auc:0.927017+0.00102348\ttest-auc:0.908499+0.003299\n",
      "[244]\ttrain-auc:0.927097+0.000993922\ttest-auc:0.908463+0.00334308\n",
      "[245]\ttrain-auc:0.927185+0.000975075\ttest-auc:0.908474+0.00332104\n",
      "[246]\ttrain-auc:0.927241+0.00096975\ttest-auc:0.908479+0.0033332\n",
      "[247]\ttrain-auc:0.927309+0.0009445\ttest-auc:0.908499+0.00335847\n",
      "[248]\ttrain-auc:0.927375+0.000927021\ttest-auc:0.908531+0.00335826\n",
      "[249]\ttrain-auc:0.927465+0.000917725\ttest-auc:0.908486+0.00341488\n",
      "[250]\ttrain-auc:0.927551+0.000927929\ttest-auc:0.908518+0.00340473\n",
      "[251]\ttrain-auc:0.927654+0.000920869\ttest-auc:0.90853+0.00341305\n",
      "[252]\ttrain-auc:0.927763+0.000936959\ttest-auc:0.908567+0.00342191\n",
      "[253]\ttrain-auc:0.927863+0.000943224\ttest-auc:0.908587+0.00348244\n",
      "[254]\ttrain-auc:0.927919+0.000961161\ttest-auc:0.908578+0.00347119\n",
      "[255]\ttrain-auc:0.927984+0.000956458\ttest-auc:0.908574+0.00348264\n"
     ]
    },
    {
     "name": "stdout",
     "output_type": "stream",
     "text": [
      "[256]\ttrain-auc:0.928055+0.000981986\ttest-auc:0.908577+0.00342439\n",
      "[257]\ttrain-auc:0.928157+0.000964908\ttest-auc:0.908602+0.00343147\n",
      "[258]\ttrain-auc:0.928204+0.000975541\ttest-auc:0.908642+0.00343447\n",
      "[259]\ttrain-auc:0.928322+0.00100127\ttest-auc:0.908609+0.00340311\n",
      "[260]\ttrain-auc:0.928419+0.000981177\ttest-auc:0.908653+0.00343512\n",
      "[261]\ttrain-auc:0.928478+0.000982106\ttest-auc:0.908672+0.00339156\n",
      "[262]\ttrain-auc:0.928566+0.00100747\ttest-auc:0.908646+0.00343024\n",
      "[263]\ttrain-auc:0.928628+0.00101271\ttest-auc:0.908662+0.00349001\n",
      "[264]\ttrain-auc:0.928697+0.00100763\ttest-auc:0.90875+0.00358481\n",
      "[265]\ttrain-auc:0.928772+0.00103113\ttest-auc:0.908804+0.00361659\n",
      "[266]\ttrain-auc:0.928844+0.00103218\ttest-auc:0.908834+0.00365149\n",
      "[267]\ttrain-auc:0.928907+0.00102822\ttest-auc:0.908853+0.00368307\n",
      "[268]\ttrain-auc:0.928972+0.00105737\ttest-auc:0.908837+0.00372047\n",
      "[269]\ttrain-auc:0.929072+0.00101634\ttest-auc:0.908911+0.00377906\n",
      "[270]\ttrain-auc:0.929142+0.00102395\ttest-auc:0.908921+0.00377696\n",
      "[271]\ttrain-auc:0.929212+0.00101719\ttest-auc:0.908905+0.00378292\n",
      "[272]\ttrain-auc:0.929264+0.00102431\ttest-auc:0.908921+0.00377103\n",
      "[273]\ttrain-auc:0.929332+0.0010145\ttest-auc:0.908922+0.0037945\n",
      "[274]\ttrain-auc:0.929381+0.000997724\ttest-auc:0.908922+0.00377137\n",
      "[275]\ttrain-auc:0.929455+0.00100251\ttest-auc:0.908996+0.00371843\n",
      "[276]\ttrain-auc:0.929524+0.00102262\ttest-auc:0.908981+0.0037167\n",
      "[277]\ttrain-auc:0.929596+0.00101511\ttest-auc:0.90892+0.00369333\n",
      "[278]\ttrain-auc:0.929682+0.00101166\ttest-auc:0.908906+0.00369347\n",
      "[279]\ttrain-auc:0.929771+0.00102328\ttest-auc:0.908964+0.00365882\n",
      "[280]\ttrain-auc:0.929833+0.00104499\ttest-auc:0.908998+0.00364665\n",
      "[281]\ttrain-auc:0.929914+0.00106242\ttest-auc:0.909019+0.00363883\n",
      "[282]\ttrain-auc:0.929986+0.00103642\ttest-auc:0.909026+0.00360453\n",
      "[283]\ttrain-auc:0.930051+0.00106087\ttest-auc:0.909062+0.00358102\n",
      "[284]\ttrain-auc:0.930109+0.00107022\ttest-auc:0.90908+0.00354677\n",
      "[285]\ttrain-auc:0.930173+0.00108576\ttest-auc:0.909056+0.00350146\n",
      "[286]\ttrain-auc:0.930234+0.00110091\ttest-auc:0.909042+0.00350276\n",
      "[287]\ttrain-auc:0.930314+0.00108626\ttest-auc:0.909023+0.00352109\n",
      "[288]\ttrain-auc:0.930366+0.0010755\ttest-auc:0.909006+0.00350366\n",
      "[289]\ttrain-auc:0.930437+0.00109849\ttest-auc:0.909038+0.00349871\n",
      "[290]\ttrain-auc:0.930523+0.0010466\ttest-auc:0.909019+0.00345612\n",
      "[291]\ttrain-auc:0.930576+0.00104711\ttest-auc:0.90905+0.00347111\n",
      "[292]\ttrain-auc:0.93064+0.00104677\ttest-auc:0.90906+0.00345649\n",
      "[293]\ttrain-auc:0.930702+0.00105119\ttest-auc:0.90904+0.0034401\n",
      "[294]\ttrain-auc:0.930764+0.00106323\ttest-auc:0.909007+0.00344602\n",
      "[295]\ttrain-auc:0.930823+0.00106167\ttest-auc:0.909035+0.00343798\n",
      "[296]\ttrain-auc:0.930885+0.00104116\ttest-auc:0.909081+0.0034413\n",
      "[297]\ttrain-auc:0.930933+0.00101581\ttest-auc:0.909081+0.00340995\n",
      "[298]\ttrain-auc:0.931007+0.00102619\ttest-auc:0.909082+0.00338764\n",
      "[299]\ttrain-auc:0.931052+0.00100145\ttest-auc:0.909064+0.00337687\n",
      "[300]\ttrain-auc:0.931122+0.00100212\ttest-auc:0.909081+0.00334142\n",
      "[301]\ttrain-auc:0.931163+0.00100854\ttest-auc:0.90911+0.00332125\n",
      "[302]\ttrain-auc:0.931233+0.00100372\ttest-auc:0.909111+0.00332619\n",
      "[303]\ttrain-auc:0.93129+0.00100273\ttest-auc:0.909095+0.00336825\n",
      "[304]\ttrain-auc:0.931351+0.00101528\ttest-auc:0.909085+0.00335342\n",
      "[305]\ttrain-auc:0.931413+0.00100247\ttest-auc:0.909091+0.00339029\n",
      "[306]\ttrain-auc:0.93146+0.00100004\ttest-auc:0.909086+0.00338913\n",
      "[307]\ttrain-auc:0.931536+0.000975704\ttest-auc:0.909087+0.00340587\n",
      "[308]\ttrain-auc:0.93158+0.000958948\ttest-auc:0.909127+0.00351508\n",
      "[309]\ttrain-auc:0.931641+0.000949705\ttest-auc:0.909122+0.00350513\n",
      "[310]\ttrain-auc:0.931721+0.000939601\ttest-auc:0.909085+0.00354668\n",
      "[311]\ttrain-auc:0.931768+0.000939456\ttest-auc:0.90908+0.00355097\n",
      "[312]\ttrain-auc:0.931815+0.000915086\ttest-auc:0.909067+0.00351632\n",
      "[313]\ttrain-auc:0.931873+0.000931461\ttest-auc:0.909083+0.00352192\n",
      "[314]\ttrain-auc:0.931941+0.000955186\ttest-auc:0.909074+0.00353669\n",
      "[315]\ttrain-auc:0.931983+0.0009391\ttest-auc:0.909052+0.00354158\n",
      "[316]\ttrain-auc:0.932031+0.000907236\ttest-auc:0.909028+0.00353971\n",
      "[317]\ttrain-auc:0.932086+0.000885825\ttest-auc:0.909044+0.00354178\n",
      "[318]\ttrain-auc:0.932163+0.000878177\ttest-auc:0.909069+0.00352602\n",
      "[319]\ttrain-auc:0.932227+0.000878736\ttest-auc:0.909071+0.0035307\n",
      "[320]\ttrain-auc:0.932296+0.000861392\ttest-auc:0.909078+0.00352882\n",
      "[321]\ttrain-auc:0.932356+0.000865483\ttest-auc:0.909093+0.00354597\n",
      "[322]\ttrain-auc:0.932408+0.000879365\ttest-auc:0.909129+0.00358202\n",
      "[323]\ttrain-auc:0.932451+0.000849093\ttest-auc:0.909135+0.00357223\n",
      "[324]\ttrain-auc:0.93252+0.000808103\ttest-auc:0.909153+0.00356085\n",
      "[325]\ttrain-auc:0.932568+0.000795088\ttest-auc:0.909141+0.00354095\n",
      "[326]\ttrain-auc:0.932596+0.000802024\ttest-auc:0.909127+0.00356765\n",
      "[327]\ttrain-auc:0.932656+0.000811985\ttest-auc:0.909098+0.00359441\n",
      "[328]\ttrain-auc:0.932698+0.000798002\ttest-auc:0.909055+0.00354807\n",
      "[329]\ttrain-auc:0.932735+0.000788802\ttest-auc:0.909051+0.00356399\n",
      "[330]\ttrain-auc:0.932782+0.000791997\ttest-auc:0.909047+0.00357681\n",
      "[331]\ttrain-auc:0.932855+0.000780927\ttest-auc:0.909052+0.00357413\n",
      "[332]\ttrain-auc:0.932906+0.000798986\ttest-auc:0.909057+0.0035872\n",
      "[333]\ttrain-auc:0.932994+0.00079739\ttest-auc:0.90904+0.00363687\n",
      "[334]\ttrain-auc:0.933056+0.000793423\ttest-auc:0.909027+0.00361403\n",
      "[335]\ttrain-auc:0.933121+0.000814433\ttest-auc:0.909055+0.00359689\n",
      "[336]\ttrain-auc:0.933155+0.00081567\ttest-auc:0.909066+0.00361451\n",
      "[337]\ttrain-auc:0.933242+0.000811613\ttest-auc:0.909081+0.00360977\n",
      "[338]\ttrain-auc:0.93329+0.000793362\ttest-auc:0.909096+0.0036314\n",
      "[339]\ttrain-auc:0.93335+0.000790861\ttest-auc:0.909056+0.00360019\n",
      "[340]\ttrain-auc:0.93342+0.000785287\ttest-auc:0.909038+0.00356891\n",
      "[341]\ttrain-auc:0.93347+0.000776779\ttest-auc:0.909015+0.00355027\n",
      "[342]\ttrain-auc:0.933525+0.000785732\ttest-auc:0.90901+0.00357067\n",
      "[343]\ttrain-auc:0.933575+0.000788729\ttest-auc:0.909025+0.00360211\n",
      "[344]\ttrain-auc:0.933638+0.000787715\ttest-auc:0.909025+0.00365318\n",
      "[345]\ttrain-auc:0.933672+0.000797488\ttest-auc:0.909024+0.0036593\n",
      "[346]\ttrain-auc:0.933725+0.000782149\ttest-auc:0.909033+0.00367228\n",
      "[347]\ttrain-auc:0.933767+0.000778231\ttest-auc:0.909029+0.00365167\n",
      "[348]\ttrain-auc:0.933833+0.000754381\ttest-auc:0.908997+0.00369352\n",
      "[349]\ttrain-auc:0.93392+0.000743772\ttest-auc:0.90905+0.00369552\n",
      "[350]\ttrain-auc:0.933964+0.000753259\ttest-auc:0.909088+0.00369558\n",
      "[351]\ttrain-auc:0.934016+0.000765385\ttest-auc:0.909112+0.00368359\n",
      "[352]\ttrain-auc:0.9341+0.000791121\ttest-auc:0.90911+0.00372007\n",
      "[353]\ttrain-auc:0.934144+0.000784885\ttest-auc:0.90909+0.0037187\n",
      "[354]\ttrain-auc:0.934193+0.000801378\ttest-auc:0.909084+0.00371471\n",
      "[355]\ttrain-auc:0.934227+0.000804746\ttest-auc:0.909062+0.00371548\n",
      "[356]\ttrain-auc:0.934286+0.000809885\ttest-auc:0.909087+0.00371995\n",
      "[357]\ttrain-auc:0.934334+0.000822824\ttest-auc:0.909095+0.00372756\n",
      "[358]\ttrain-auc:0.934391+0.000814076\ttest-auc:0.909122+0.00370663\n",
      "[359]\ttrain-auc:0.934436+0.000815624\ttest-auc:0.909132+0.00372426\n",
      "[360]\ttrain-auc:0.934472+0.000831611\ttest-auc:0.909143+0.00375826\n",
      "[361]\ttrain-auc:0.934489+0.000824832\ttest-auc:0.909137+0.00378732\n",
      "[362]\ttrain-auc:0.934555+0.000831869\ttest-auc:0.909105+0.00381114\n",
      "[363]\ttrain-auc:0.934614+0.000811612\ttest-auc:0.909095+0.003797\n",
      "[364]\ttrain-auc:0.934671+0.00082481\ttest-auc:0.909111+0.00380146\n",
      "[365]\ttrain-auc:0.934721+0.000825539\ttest-auc:0.909129+0.00378748\n",
      "[366]\ttrain-auc:0.934793+0.000840091\ttest-auc:0.909122+0.00378144\n",
      "[367]\ttrain-auc:0.934835+0.000835979\ttest-auc:0.909106+0.00378288\n",
      "[368]\ttrain-auc:0.934869+0.000818596\ttest-auc:0.909099+0.00378447\n",
      "[369]\ttrain-auc:0.934913+0.000831524\ttest-auc:0.909113+0.00377456\n",
      "[370]\ttrain-auc:0.934965+0.00084654\ttest-auc:0.909115+0.00378668\n",
      "[371]\ttrain-auc:0.935013+0.000840344\ttest-auc:0.909086+0.00381469\n",
      "[372]\ttrain-auc:0.935073+0.000856106\ttest-auc:0.909112+0.0038284\n",
      "[373]\ttrain-auc:0.935116+0.000875524\ttest-auc:0.909131+0.00380961\n"
     ]
    },
    {
     "name": "stderr",
     "output_type": "stream",
     "text": [
      "/home/manikanth/Desktop/practice/analyticsvidhya/wns-analytics-2018/venv/lib/python3.6/site-packages/sklearn/preprocessing/label.py:151: DeprecationWarning: The truth value of an empty array is ambiguous. Returning False, but in future this will result in an error. Use `array.size > 0` to check that an array is not empty.\n",
      "  if diff:\n"
     ]
    },
    {
     "name": "stdout",
     "output_type": "stream",
     "text": [
      "\n",
      "Model Report\n",
      "Accuracy : 0.9407\n",
      "AUC Score (Train): 0.930820\n"
     ]
    },
    {
     "ename": "TypeError",
     "evalue": "'str' object is not callable",
     "output_type": "error",
     "traceback": [
      "\u001b[0;31m---------------------------------------------------------------------------\u001b[0m",
      "\u001b[0;31mTypeError\u001b[0m                                 Traceback (most recent call last)",
      "\u001b[0;32m<ipython-input-44-e691b1bb663d>\u001b[0m in \u001b[0;36m<module>\u001b[0;34m()\u001b[0m\n\u001b[1;32m     14\u001b[0m \u001b[0;31m# Y = train_df['is_promoted']\u001b[0m\u001b[0;34m\u001b[0m\u001b[0;34m\u001b[0m\u001b[0m\n\u001b[1;32m     15\u001b[0m \u001b[0;31m# X = train_df.drop(['is_promoted'], axis = 1)\u001b[0m\u001b[0;34m\u001b[0m\u001b[0;34m\u001b[0m\u001b[0m\n\u001b[0;32m---> 16\u001b[0;31m \u001b[0mmodelfit\u001b[0m\u001b[0;34m(\u001b[0m\u001b[0mxgb1\u001b[0m\u001b[0;34m,\u001b[0m \u001b[0mtrain_df\u001b[0m\u001b[0;34m,\u001b[0m \u001b[0mpredictors\u001b[0m\u001b[0;34m,\u001b[0m \u001b[0;34m'is_promoted'\u001b[0m\u001b[0;34m)\u001b[0m\u001b[0;34m\u001b[0m\u001b[0m\n\u001b[0m",
      "\u001b[0;32m<ipython-input-43-058bf9ea4a1e>\u001b[0m in \u001b[0;36mmodelfit\u001b[0;34m(alg, dtrain, predictors, target, useTrainCV, cv_folds, early_stopping_rounds)\u001b[0m\n\u001b[1;32m     20\u001b[0m     \u001b[0mprint\u001b[0m\u001b[0;34m(\u001b[0m\u001b[0;34m\"AUC Score (Train): %f\"\u001b[0m \u001b[0;34m%\u001b[0m \u001b[0mmetrics\u001b[0m\u001b[0;34m.\u001b[0m\u001b[0mroc_auc_score\u001b[0m\u001b[0;34m(\u001b[0m\u001b[0mdtrain\u001b[0m\u001b[0;34m[\u001b[0m\u001b[0mtarget\u001b[0m\u001b[0;34m]\u001b[0m\u001b[0;34m,\u001b[0m \u001b[0mdtrain_predprob\u001b[0m\u001b[0;34m)\u001b[0m\u001b[0;34m)\u001b[0m\u001b[0;34m\u001b[0m\u001b[0m\n\u001b[1;32m     21\u001b[0m \u001b[0;34m\u001b[0m\u001b[0m\n\u001b[0;32m---> 22\u001b[0;31m     \u001b[0mfeat_imp\u001b[0m \u001b[0;34m=\u001b[0m \u001b[0mpd\u001b[0m\u001b[0;34m.\u001b[0m\u001b[0mSeries\u001b[0m\u001b[0;34m(\u001b[0m\u001b[0malg\u001b[0m\u001b[0;34m.\u001b[0m\u001b[0mbooster\u001b[0m\u001b[0;34m(\u001b[0m\u001b[0;34m)\u001b[0m\u001b[0;34m.\u001b[0m\u001b[0mget_fscore\u001b[0m\u001b[0;34m(\u001b[0m\u001b[0;34m)\u001b[0m\u001b[0;34m)\u001b[0m\u001b[0;34m.\u001b[0m\u001b[0msort_values\u001b[0m\u001b[0;34m(\u001b[0m\u001b[0mascending\u001b[0m\u001b[0;34m=\u001b[0m\u001b[0;32mFalse\u001b[0m\u001b[0;34m)\u001b[0m\u001b[0;34m\u001b[0m\u001b[0m\n\u001b[0m\u001b[1;32m     23\u001b[0m     \u001b[0mfeat_imp\u001b[0m\u001b[0;34m.\u001b[0m\u001b[0mplot\u001b[0m\u001b[0;34m(\u001b[0m\u001b[0mkind\u001b[0m\u001b[0;34m=\u001b[0m\u001b[0;34m'bar'\u001b[0m\u001b[0;34m,\u001b[0m \u001b[0mtitle\u001b[0m\u001b[0;34m=\u001b[0m\u001b[0;34m'Feature Importances'\u001b[0m\u001b[0;34m)\u001b[0m\u001b[0;34m\u001b[0m\u001b[0m\n\u001b[1;32m     24\u001b[0m     \u001b[0mplt\u001b[0m\u001b[0;34m.\u001b[0m\u001b[0mylabel\u001b[0m\u001b[0;34m(\u001b[0m\u001b[0;34m'Feature Importance Score'\u001b[0m\u001b[0;34m)\u001b[0m\u001b[0;34m\u001b[0m\u001b[0m\n",
      "\u001b[0;31mTypeError\u001b[0m: 'str' object is not callable"
     ]
    }
   ],
   "source": [
    "#Choose all predictors except target & IDcols\n",
    "predictors = X.columns.values.tolist()\n",
    "xgb1 = XGBClassifier(learning_rate =0.1,\n",
    "                    n_estimators=1000,\n",
    "                    max_depth=5,\n",
    "                    min_child_weight=1,\n",
    "                    gamma=0,\n",
    "                    subsample=0.8,\n",
    "                    colsample_bytree=0.8,\n",
    "                    objective= 'binary:logistic',\n",
    "                    nthread=4,\n",
    "                    scale_pos_weight = 0.0833,\n",
    "                    seed=27)\n",
    "# Y = train_df['is_promoted']\n",
    "# X = train_df.drop(['is_promoted'], axis = 1)\n",
    "modelfit(xgb1, train_df, predictors, 'is_promoted')"
   ]
  },
  {
   "cell_type": "code",
   "execution_count": 49,
   "metadata": {},
   "outputs": [
    {
     "name": "stderr",
     "output_type": "stream",
     "text": [
      "/home/manikanth/Desktop/practice/analyticsvidhya/wns-analytics-2018/venv/lib/python3.6/site-packages/sklearn/preprocessing/label.py:151: DeprecationWarning: The truth value of an empty array is ambiguous. Returning False, but in future this will result in an error. Use `array.size > 0` to check that an array is not empty.\n",
      "  if diff:\n"
     ]
    }
   ],
   "source": [
    "pred = xgb1.predict(test_df)\n",
    "pred = pd.DataFrame(pred, index = test_df.index)\n",
    "pred.columns = ['is_promoted']\n",
    "pred.to_csv('../output/sub_15_00-29.csv')"
   ]
  },
  {
   "cell_type": "code",
   "execution_count": null,
   "metadata": {},
   "outputs": [],
   "source": []
  }
 ],
 "metadata": {
  "kernelspec": {
   "display_name": "Python 3",
   "language": "python",
   "name": "python3"
  },
  "language_info": {
   "codemirror_mode": {
    "name": "ipython",
    "version": 3
   },
   "file_extension": ".py",
   "mimetype": "text/x-python",
   "name": "python",
   "nbconvert_exporter": "python",
   "pygments_lexer": "ipython3",
   "version": "3.6.5"
  }
 },
 "nbformat": 4,
 "nbformat_minor": 2
}
